{
 "cells": [
  {
   "cell_type": "markdown",
   "metadata": {},
   "source": [
    "# Lesson 3\n",
    "\n",
    "input data"
   ]
  },
  {
   "cell_type": "code",
   "execution_count": 1,
   "metadata": {},
   "outputs": [],
   "source": [
    "from selenium import webdriver \n",
    "opt = webdriver.ChromeOptions()\n",
    "opt.binary_location = '/Applications/Chrome.app/Contents/MacOS/Google Chrome'\n",
    "driver = webdriver.Chrome(options=opt)"
   ]
  },
  {
   "cell_type": "code",
   "execution_count": 2,
   "metadata": {},
   "outputs": [],
   "source": [
    "driver.get('http://www.tmall.com')"
   ]
  },
  {
   "cell_type": "code",
   "execution_count": 4,
   "metadata": {},
   "outputs": [],
   "source": [
    "input_el = driver.find_element_by_class_name(\"s-combobox-input\") #search box"
   ]
  },
  {
   "cell_type": "code",
   "execution_count": 8,
   "metadata": {},
   "outputs": [],
   "source": [
    "input_el.send_keys('Macbook pro')"
   ]
  },
  {
   "cell_type": "code",
   "execution_count": 15,
   "metadata": {},
   "outputs": [],
   "source": [
    "input_xpath = driver.find_element_by_xpath('//*[@id=\"mq\"]') #search box"
   ]
  },
  {
   "cell_type": "code",
   "execution_count": 10,
   "metadata": {},
   "outputs": [
    {
     "data": {
      "text/plain": [
       "True"
      ]
     },
     "execution_count": 10,
     "metadata": {},
     "output_type": "execute_result"
    }
   ],
   "source": [
    "input_xpath == input_el"
   ]
  },
  {
   "cell_type": "code",
   "execution_count": 11,
   "metadata": {},
   "outputs": [],
   "source": [
    "input_xpath.send_keys('macbook 2019') #now the searchbox is macbook 2019"
   ]
  },
  {
   "cell_type": "code",
   "execution_count": 13,
   "metadata": {},
   "outputs": [],
   "source": [
    "input_xpath.clear() #clear the search box"
   ]
  },
  {
   "cell_type": "code",
   "execution_count": 16,
   "metadata": {},
   "outputs": [],
   "source": [
    "input_xpath.clear() #before entering the box, clear first incase there were text\n",
    "input_xpath.send_keys('macbook 2019')"
   ]
  },
  {
   "cell_type": "code",
   "execution_count": 17,
   "metadata": {},
   "outputs": [
    {
     "data": {
      "text/plain": [
       "'搜索'"
      ]
     },
     "execution_count": 17,
     "metadata": {},
     "output_type": "execute_result"
    }
   ],
   "source": [
    "search_butt = driver.find_element_by_xpath('//*[@id=\"mallSearch\"]/form/fieldset/div/button')\n",
    "search_butt.text"
   ]
  },
  {
   "cell_type": "code",
   "execution_count": 19,
   "metadata": {},
   "outputs": [],
   "source": [
    "search_butt.click()"
   ]
  },
  {
   "cell_type": "code",
   "execution_count": 23,
   "metadata": {},
   "outputs": [],
   "source": [
    "input_xpath = driver.find_element_by_xpath('//*[@id=\"mq\"]')\n",
    "input_xpath.clear()\n",
    "input_xpath.send_keys('2019')\n",
    "search_butt = driver.find_element_by_xpath('//*[@id=\"mallSearch\"]/form/fieldset/div/button')"
   ]
  },
  {
   "cell_type": "code",
   "execution_count": 24,
   "metadata": {},
   "outputs": [],
   "source": [
    "search_butt.click()"
   ]
  },
  {
   "cell_type": "code",
   "execution_count": 25,
   "metadata": {},
   "outputs": [],
   "source": [
    "next_page = driver.find_element_by_xpath('//*[@id=\"content\"]/div/div[8]/div/b[1]/a[3]')\n",
    "next_page.click()"
   ]
  },
  {
   "cell_type": "markdown",
   "metadata": {},
   "source": [
    "# Lesson 4\n",
    "Accessing data"
   ]
  },
  {
   "cell_type": "code",
   "execution_count": 26,
   "metadata": {},
   "outputs": [],
   "source": [
    "driver.get('http://www.tmall.com')\n",
    "input_xpath = driver.find_element_by_xpath('//*[@id=\"mq\"]') #search box\n",
    "input_xpath.clear() #before entering the box, clear first incase there were text\n",
    "input_xpath.send_keys('macbook pro')\n",
    "search_butt = driver.find_element_by_xpath('//*[@id=\"mallSearch\"]/form/fieldset/div/button')\n",
    "search_butt.click()"
   ]
  },
  {
   "cell_type": "code",
   "execution_count": 29,
   "metadata": {},
   "outputs": [],
   "source": [
    "html_str = driver.page_source"
   ]
  },
  {
   "cell_type": "code",
   "execution_count": 31,
   "metadata": {},
   "outputs": [],
   "source": [
    "from lxml import etree"
   ]
  },
  {
   "cell_type": "code",
   "execution_count": 32,
   "metadata": {},
   "outputs": [],
   "source": [
    "html = etree.HTML(html_str)"
   ]
  },
  {
   "cell_type": "code",
   "execution_count": 55,
   "metadata": {},
   "outputs": [],
   "source": [
    "product_list = html.xpath('//*[@id=\"J_ItemList\"]/div')"
   ]
  },
  {
   "cell_type": "code",
   "execution_count": 61,
   "metadata": {},
   "outputs": [
    {
     "name": "stdout",
     "output_type": "stream",
     "text": [
      "['//detail.tmall.com/item.htm?id=596050186549&skuId=4315865414097&standard=1&user_id=2616970884&cat_id=50024399&is_b=1&rn=60306b61c47e4cb890f99c92af175bea'] ['\\nApple/苹果 触控栏和触控 ID 2.4GHz 四核处理器 (Turbo Boost\\n'] ['\\n苏宁易购官方旗舰店\\n']\n",
      "['//detail.tmall.com/item.htm?id=553542440790&skuId=4310553259386&standard=1&user_id=2616970884&cat_id=50024399&is_b=1&rn=60306b61c47e4cb890f99c92af175bea'] ['\\nApple/苹果 13英寸：', ' ', ' 2.3GHz 处理器 128GB 存储容量\\n'] ['\\n苏宁易购官方旗舰店\\n']\n",
      "['//detail.tmall.com/item.htm?id=595124878820&skuId=4611686613552266724&standard=1&user_id=1917047079&cat_id=50024399&is_b=1&rn=60306b61c47e4cb890f99c92af175bea'] ['\\nApple/苹果 触控栏和触控 ID 2.3GHz 八核处理器 (Turbo Boost\\n'] ['\\nApple Store 官方旗舰店\\n']\n",
      "['//detail.tmall.com/item.htm?id=595125146364&skuId=4611686613552534268&standard=1&user_id=1917047079&cat_id=50024399&is_b=1&rn=60306b61c47e4cb890f99c92af175bea'] ['\\nApple/苹果 触控栏和触控 ID 2.4GHz 四核处理器 (Turbo Boost\\n'] ['\\nApple Store 官方旗舰店\\n']\n",
      "['//detail.tmall.com/item.htm?id=553388366959&skuId=3585721909626&standard=1&user_id=1669409267&cat_id=50024399&is_b=1&rn=60306b61c47e4cb890f99c92af175bea'] ['\\nApple/苹果 13英寸：', ' ', ' 256GB\\n'] ['\\n卓辰数码旗舰店\\n']\n",
      "['//detail.tmall.com/item.htm?id=574021962806&skuId=3749452048344&standard=1&user_id=2616970884&cat_id=50024399&is_b=1&rn=60306b61c47e4cb890f99c92af175bea'] ['\\nApple/苹果 触控栏和触控 ID 2.3GHz 处理器 256GB 存储容量 13\\n'] ['\\n苏宁易购官方旗舰店\\n']\n",
      "['//detail.tmall.com/item.htm?id=566704767581&skuId=3765671902384&user_id=2616970884&cat_id=50024399&is_b=1&rn=60306b61c47e4cb890f99c92af175bea'] ['\\nApple/苹果 13英寸 ', ' ', '\\n'] ['\\n苏宁易购官方旗舰店\\n']\n",
      "['//detail.tmall.com/item.htm?id=598608415124&skuId=4611686617035803028&standard=1&user_id=1917047079&cat_id=50024399&is_b=1&rn=60306b61c47e4cb890f99c92af175bea'] ['\\nApple/苹果 1.4GHz 四核处理器 (Turbo Boost 最高可达 3.9GHz)\\n'] ['\\nApple Store 官方旗舰店\\n']\n",
      "['//detail.tmall.com/item.htm?id=598533058030&skuId=4611686616960445934&user_id=1917047079&cat_id=50024399&is_b=1&rn=60306b61c47e4cb890f99c92af175bea'] ['\\nApple/苹果 13 英寸 ', ' ', ' 1.4GHz 四核处理器 (Turbo Boost 最高可达 3.9GHz) 256GB 存储容量 触控栏和触控 ID\\n'] ['\\nApple Store 官方旗舰店\\n']\n",
      "['//detail.tmall.com/item.htm?id=598716315896&skuId=4611686617143703800&user_id=1917047079&cat_id=50024399&is_b=1&rn=60306b61c47e4cb890f99c92af175bea'] ['\\nApple/苹果 13 英寸 ', ' ', ' 1.4GHz 四核处理器 (Turbo Boost 最高可达 3.9GHz) 128GB 存储容量 触控栏和触控 ID\\n'] ['\\nApple Store 官方旗舰店\\n']\n",
      "['//detail.tmall.com/item.htm?id=580232053964&skuId=4031832090600&standard=1&user_id=2616970884&cat_id=50024399&is_b=1&rn=60306b61c47e4cb890f99c92af175bea'] ['\\nApple/苹果 触控栏和触控 ID 2.3GHz 处理器 512GB 存储容量 13\\n'] ['\\n苏宁易购官方旗舰店\\n']\n",
      "['//detail.tmall.com/item.htm?id=596308543405&skuId=4148948285090&standard=1&user_id=2616970884&cat_id=50024399&is_b=1&rn=60306b61c47e4cb890f99c92af175bea'] ['\\nApple/苹果 触控栏和触控 ID 2.6GHz 六核处理器 (Turbo Boost\\n'] ['\\n苏宁易购官方旗舰店\\n']\n",
      "['//detail.tmall.com/item.htm?id=580358634075&skuId=4324387563557&standard=1&user_id=2616970884&cat_id=50024399&is_b=1&rn=60306b61c47e4cb890f99c92af175bea'] ['\\nApple/苹果 触控栏和触控 ID 2.6GHz 处理器 512GB 存储容量 15\\n'] ['\\n苏宁易购官方旗舰店\\n']\n",
      "['//detail.tmall.com/item.htm?id=598418850958&skuId=4611686616846238862&standard=1&user_id=1917047079&cat_id=50024399&is_b=1&rn=60306b61c47e4cb890f99c92af175bea'] ['\\nApple/苹果 1.4GHz 四核处理器 (Turbo Boost 最高可达 3.9GHz)\\n'] ['\\nApple Store 官方旗舰店\\n']\n",
      "['//detail.tmall.com/item.htm?id=553388086354&skuId=3574503340477&standard=1&user_id=1669409267&cat_id=50024399&is_b=1&rn=60306b61c47e4cb890f99c92af175bea'] ['\\nApple/苹果 13英寸：', ' ', ' 128GB\\n'] ['\\n卓辰数码旗舰店\\n']\n",
      "['//detail.tmall.com/item.htm?id=597772437593&skuId=4611686616199825497&user_id=1917047079&cat_id=50024399&is_b=1&rn=60306b61c47e4cb890f99c92af175bea'] ['\\nApple/苹果 13 英寸 ', ' ', ' 触控栏和触控 ID 2.4GHz 四核处理器 (Turbo Boost 最高可达 4.1GHz) 256GB 存储容量\\n'] ['\\nApple Store 官方旗舰店\\n']\n",
      "['//detail.tmall.com/item.htm?id=597771433488&skuId=4611686616198821392&user_id=1917047079&cat_id=50024399&is_b=1&rn=60306b61c47e4cb890f99c92af175bea'] ['\\nApple/苹果 15 英寸 ', ' ', ' 触控栏和触控 ID 2.3GHz 八核处理器 (Turbo Boost 最高可达 4.8GHz) 512GB 存储容量\\n'] ['\\nApple Store 官方旗舰店\\n']\n",
      "['//detail.tmall.com/item.htm?id=573764920758&skuId=4321623542681&standard=1&user_id=2616970884&cat_id=50024399&is_b=1&rn=60306b61c47e4cb890f99c92af175bea'] ['\\nApple/苹果 触控栏和触控 ID 2.2GHz 处理器 256GB 存储容量 15\\n'] ['\\n苏宁易购官方旗舰店\\n']\n",
      "['//detail.tmall.com/item.htm?id=45770557481&skuId=92850839719&user_id=1708919206&cat_id=50024399&is_b=1&rn=60306b61c47e4cb890f99c92af175bea'] ['\\nApple/苹果 ', ' ', ' MJLQ2CH/A\\n'] ['\\n禾木林数码专营店\\n']\n",
      "['//detail.tmall.com/item.htm?id=583089706422&skuId=4215551423204&user_id=4036567658&cat_id=50024399&is_b=1&rn=60306b61c47e4cb890f99c92af175bea'] ['\\nApple/苹果 13 英寸 2.3GHz 处理器 128GB 存储容量 ', ' ', '\\n'] ['\\n迈向数码旗舰店\\n']\n",
      "['//detail.tmall.com/item.htm?id=597352770017&skuId=4153797520962&user_id=4078784152&cat_id=50024399&is_b=1&rn=60306b61c47e4cb890f99c92af175bea'] ['\\nApple/苹果 ', ' ', ' 15 英寸 2.3 GHz Retina 显示屏\\n'] ['\\n鑫辉数码旗舰店\\n']\n",
      "['//detail.tmall.com/item.htm?id=586684452137&skuId=4188793231105&user_id=2200694614520&cat_id=50024399&is_b=1&rn=60306b61c47e4cb890f99c92af175bea'] ['\\nApple/苹果 ', ' ', ' MPXQ2CH/A\\n'] ['\\n启首数码旗舰店\\n']\n",
      "['//detail.tmall.com/item.htm?id=597959318184&skuId=4611686616386706088&user_id=1917047079&cat_id=50024399&is_b=1&rn=60306b61c47e4cb890f99c92af175bea'] ['\\nApple/苹果 15 英寸 ', ' ', ' 触控栏和触控 ID 2.6GHz 六核处理器 (Turbo Boost 最高可达 4.5GHz) 256GB 存储容量\\n'] ['\\nApple Store 官方旗舰店\\n']\n",
      "['//detail.tmall.com/item.htm?id=598975927961&skuId=4171688952918&user_id=2200785402219&cat_id=50024399&is_b=1&rn=60306b61c47e4cb890f99c92af175bea'] ['\\nApple/苹果 1.6GHz 双核处理器，Turbo Boost 最高可达 3.6GHz\\n'] ['\\n云杏旗舰店\\n']\n",
      "['//detail.tmall.com/item.htm?id=597957674704&skuId=4611686616385062608&user_id=1917047079&cat_id=50024399&is_b=1&rn=60306b61c47e4cb890f99c92af175bea'] ['\\nApple/苹果 13 英寸 ', ' ', ' 触控栏和触控 ID 2.4GHz 四核处理器 (Turbo Boost 最高可达 4.1GHz) 512GB 存储容量\\n'] ['\\nApple Store 官方旗舰店\\n']\n",
      "['//detail.tmall.com/item.htm?id=598143935647&skuId=4611686616571323551&user_id=1917047079&cat_id=50024399&is_b=1&rn=60306b61c47e4cb890f99c92af175bea'] ['\\nApple/苹果 15 英寸 ', ' ', ' 触控栏和触控 ID 2.3GHz 八核处理器 (Turbo Boost 最高可达 4.8GHz) 512GB 存储容量\\n'] ['\\nApple Store 官方旗舰店\\n']\n",
      "['//detail.tmall.com/item.htm?id=597773301798&skuId=4611686616200689702&user_id=1917047079&cat_id=50024399&is_b=1&rn=60306b61c47e4cb890f99c92af175bea'] ['\\nApple/苹果 13 英寸 ', ' ', ' 触控栏和触控 ID 2.4GHz 四核处理器 (Turbo Boost 最高可达 4.1GHz) 512GB 存储容量\\n'] ['\\nApple Store 官方旗舰店\\n']\n",
      "['//detail.tmall.com/item.htm?id=590274255570&skuId=4127450024822&user_id=2200719164073&cat_id=50024399&is_b=1&rn=60306b61c47e4cb890f99c92af175bea'] ['\\nApple/苹果 15英寸：', ' ', ' MR932CH/A MR962CH/A\\n'] ['\\n彪客数码旗舰店\\n']\n",
      "['//detail.tmall.com/item.htm?id=590267431070&skuId=4300028703994&user_id=2200719164073&cat_id=50024399&is_b=1&rn=60306b61c47e4cb890f99c92af175bea'] ['\\nApple/苹果 13英寸：', ' ', ' 2.0GHz 处理器 256GB 存储容量\\n'] ['\\n彪客数码旗舰店\\n']\n",
      "['//detail.tmall.com/item.htm?id=590661724373&skuId=4222977342537&user_id=2200669326312&cat_id=50024399&is_b=1&rn=60306b61c47e4cb890f99c92af175bea'] ['\\nApple/苹果 15英寸：', ' ', ' MR942CH/A MR972CH/A\\n'] ['\\n赛尔校园先锋旗舰店\\n']\n",
      "['//detail.tmall.com/item.htm?id=598107376899&skuId=4611686616534764803&user_id=1917047079&cat_id=50024399&is_b=1&rn=60306b61c47e4cb890f99c92af175bea'] ['\\nApple/苹果 13 英寸 ', ' ', ' 1.4GHz 四核处理器 (Turbo Boost 最高可达 3.9GHz) 128GB 存储容量 触控栏和触控 ID\\n'] ['\\nApple Store 官方旗舰店\\n']\n",
      "['//detail.tmall.com/item.htm?id=598111700333&skuId=4611686616539088237&user_id=1917047079&cat_id=50024399&is_b=1&rn=60306b61c47e4cb890f99c92af175bea'] ['\\nApple/苹果 13 英寸 ', ' ', ' 1.4GHz 四核处理器 (Turbo Boost 最高可达 3.9GHz) 256GB 存储容量 触控栏和触控 ID\\n'] ['\\nApple Store 官方旗舰店\\n']\n",
      "['//detail.tmall.com/item.htm?id=579514346526&skuId=4019313930929&user_id=4036567658&cat_id=50024399&is_b=1&rn=60306b61c47e4cb890f99c92af175bea'] ['\\nApple/苹果 13 英寸 2.3GHz 处理器 256GB 存储容量 ', ' ', '\\n'] ['\\n迈向数码旗舰店\\n']\n",
      "['//detail.tmall.com/item.htm?id=598345957417&skuId=4611686616773345321&user_id=1917047079&cat_id=50024399&is_b=1&rn=60306b61c47e4cb890f99c92af175bea'] ['\\nApple/苹果 13 英寸 ', ' ', ' 1.4GHz 四核处理器 (Turbo Boost 最高可达 3.9GHz) 256GB 存储容量 触控栏和触控 ID\\n'] ['\\nApple Store 官方旗舰店\\n']\n",
      "['//detail.tmall.com/item.htm?id=598145003197&skuId=4611686616572391101&user_id=1917047079&cat_id=50024399&is_b=1&rn=60306b61c47e4cb890f99c92af175bea'] ['\\nApple/苹果 15 英寸 ', ' ', ' 触控栏和触控 ID 2.3GHz 八核处理器 (Turbo Boost 最高可达 4.8GHz) 512GB 存储容量\\n'] ['\\nApple Store 官方旗舰店\\n']\n",
      "['//detail.tmall.com/item.htm?id=590106550145&skuId=4207374286031&user_id=2200719164073&cat_id=50024399&is_b=1&rn=60306b61c47e4cb890f99c92af175bea'] ['\\nApple/苹果 13英寸：', ' ', ' Multi-Touch Bar 和 Touch ID\\n'] ['\\n彪客数码旗舰店\\n']\n",
      "['//detail.tmall.com/item.htm?id=597773029607&skuId=4611686616200417511&user_id=1917047079&cat_id=50024399&is_b=1&rn=60306b61c47e4cb890f99c92af175bea'] ['\\nApple/苹果 13 英寸 ', ' ', ' 触控栏和触控 ID 2.4GHz 四核处理器 (Turbo Boost 最高可达 4.1GHz) 512GB 存储容量\\n'] ['\\nApple Store 官方旗舰店\\n']\n",
      "['//detail.tmall.com/item.htm?id=597957090566&skuId=4611686616384478470&user_id=1917047079&cat_id=50024399&is_b=1&rn=60306b61c47e4cb890f99c92af175bea'] ['\\nApple/苹果 13 英寸 ', ' ', ' 触控栏和触控 ID 2.4GHz 四核处理器 (Turbo Boost 最高可达 4.1GHz) 256GB 存储容量\\n'] ['\\nApple Store 官方旗舰店\\n']\n",
      "['//detail.tmall.com/item.htm?id=586768628719&skuId=4157772302223&user_id=2200694614520&cat_id=50024399&is_b=1&rn=60306b61c47e4cb890f99c92af175bea'] ['\\nApple/苹果 ', ' ', ' MPXT2CH/A\\n'] ['\\n启首数码旗舰店\\n']\n",
      "['//detail.tmall.com/item.htm?id=598145015865&skuId=4611686616572403769&user_id=1917047079&cat_id=50024399&is_b=1&rn=60306b61c47e4cb890f99c92af175bea'] ['\\nApple/苹果 13 英寸 ', ' ', ' 触控栏和触控 ID 2.4GHz 四核处理器 (Turbo Boost 最高可达 4.1GHz) 256GB 存储容量\\n'] ['\\nApple Store 官方旗舰店\\n']\n",
      "['//detail.tmall.com/item.htm?id=597774381190&skuId=4611686616201769094&user_id=1917047079&cat_id=50024399&is_b=1&rn=60306b61c47e4cb890f99c92af175bea'] ['\\nApple/苹果 15 英寸 ', ' ', ' 触控栏和触控 ID 2.6GHz 六核处理器 (Turbo Boost 最高可达 4.5GHz) 256GB 存储容量\\n'] ['\\nApple Store 官方旗舰店\\n']\n",
      "['//detail.tmall.com/item.htm?id=597959530173&skuId=4611686616386918077&user_id=1917047079&cat_id=50024399&is_b=1&rn=60306b61c47e4cb890f99c92af175bea'] ['\\nApple/苹果 15 英寸 ', ' ', ' 触控栏和触控 ID 2.6GHz 六核处理器 (Turbo Boost 最高可达 4.5GHz) 256GB 存储容量\\n'] ['\\nApple Store 官方旗舰店\\n']\n",
      "['//detail.tmall.com/item.htm?id=598527466386&skuId=4611686616954854290&user_id=1917047079&cat_id=50024399&is_b=1&rn=60306b61c47e4cb890f99c92af175bea'] ['\\nApple/苹果 13 英寸 ', ' ', ' 1.4GHz 四核处理器 (Turbo Boost 最高可达 3.9GHz) 128GB 存储容量 触控栏和触控 ID\\n'] ['\\nApple Store 官方旗舰店\\n']\n",
      "['//detail.tmall.com/item.htm?id=598367920538&skuId=4175019341197&user_id=2200785402219&cat_id=50024399&is_b=1&rn=60306b61c47e4cb890f99c92af175bea'] ['\\nApple/苹果 1.6GHz 双核处理器，Turbo Boost 最高可达 3.6GHz\\n'] ['\\n云杏旗舰店\\n']\n"
     ]
    }
   ],
   "source": [
    "for product in product_list:\n",
    "    pic = product.xpath('.//a[@class = \"productImg\"]/@href')\n",
    "    title = product.xpath('.//p[@class = \"productTitle\"]/a/text()')\n",
    "    shop = product.xpath('.//a[@class = \"productShop-name\"]/text()')\n",
    "    print(pic, title, shop)"
   ]
  },
  {
   "cell_type": "code",
   "execution_count": 62,
   "metadata": {},
   "outputs": [],
   "source": [
    "driver.quit()"
   ]
  },
  {
   "cell_type": "markdown",
   "metadata": {},
   "source": [
    "# Lesson 5\n",
    "Hide the webbrowser"
   ]
  },
  {
   "cell_type": "code",
   "execution_count": 68,
   "metadata": {},
   "outputs": [],
   "source": [
    "from selenium.webdriver.chrome.options import Options\n",
    "#chrome_options = Options()\n",
    "#chrome_options.add_argument('--headless')\n",
    "\n",
    "opt = webdriver.ChromeOptions()\n",
    "opt.binary_location = '/Applications/Chrome.app/Contents/MacOS/Google Chrome'\n",
    "opt.add_argument('--headless')\n",
    "driver = webdriver.Chrome(options=opt)\n",
    "driver.get('https://www.tmall.com')"
   ]
  },
  {
   "cell_type": "code",
   "execution_count": 69,
   "metadata": {},
   "outputs": [
    {
     "name": "stdout",
     "output_type": "stream",
     "text": [
      "['//detail.tmall.com/item.htm?id=596050186549&skuId=4315865414097&standard=1&user_id=2616970884&cat_id=50024399&is_b=1&rn=8b756d3aef83cc55d1544089fdc92033'] ['\\nApple/苹果 触控栏和触控 ID 2.4GHz 四核处理器 (Turbo Boost\\n'] ['\\n苏宁易购官方旗舰店\\n']\n",
      "['//detail.tmall.com/item.htm?id=553542440790&skuId=4310553259386&standard=1&user_id=2616970884&cat_id=50024399&is_b=1&rn=8b756d3aef83cc55d1544089fdc92033'] ['\\nApple/苹果 13英寸：', ' ', ' 2.3GHz 处理器 128GB 存储容量\\n'] ['\\n苏宁易购官方旗舰店\\n']\n",
      "['//detail.tmall.com/item.htm?id=595124878820&skuId=4611686613552266724&standard=1&user_id=1917047079&cat_id=50024399&is_b=1&rn=8b756d3aef83cc55d1544089fdc92033'] ['\\nApple/苹果 触控栏和触控 ID 2.3GHz 八核处理器 (Turbo Boost\\n'] ['\\nApple Store 官方旗舰店\\n']\n",
      "['//detail.tmall.com/item.htm?id=595125146364&skuId=4611686613552534268&standard=1&user_id=1917047079&cat_id=50024399&is_b=1&rn=8b756d3aef83cc55d1544089fdc92033'] ['\\nApple/苹果 触控栏和触控 ID 2.4GHz 四核处理器 (Turbo Boost\\n'] ['\\nApple Store 官方旗舰店\\n']\n",
      "['//detail.tmall.com/item.htm?id=553388366959&skuId=3585721909626&standard=1&user_id=1669409267&cat_id=50024399&is_b=1&rn=8b756d3aef83cc55d1544089fdc92033'] ['\\nApple/苹果 13英寸：', ' ', ' 256GB\\n'] ['\\n卓辰数码旗舰店\\n']\n",
      "['//detail.tmall.com/item.htm?id=574021962806&skuId=3749452048344&standard=1&user_id=2616970884&cat_id=50024399&is_b=1&rn=8b756d3aef83cc55d1544089fdc92033'] ['\\nApple/苹果 触控栏和触控 ID 2.3GHz 处理器 256GB 存储容量 13\\n'] ['\\n苏宁易购官方旗舰店\\n']\n",
      "['//detail.tmall.com/item.htm?id=566704767581&skuId=3765671902384&user_id=2616970884&cat_id=50024399&is_b=1&rn=8b756d3aef83cc55d1544089fdc92033'] ['\\nApple/苹果 13英寸 ', ' ', '\\n'] ['\\n苏宁易购官方旗舰店\\n']\n",
      "['//detail.tmall.com/item.htm?id=598608415124&skuId=4611686617035803028&standard=1&user_id=1917047079&cat_id=50024399&is_b=1&rn=8b756d3aef83cc55d1544089fdc92033'] ['\\nApple/苹果 1.4GHz 四核处理器 (Turbo Boost 最高可达 3.9GHz)\\n'] ['\\nApple Store 官方旗舰店\\n']\n",
      "['//detail.tmall.com/item.htm?id=598533058030&skuId=4611686616960445934&user_id=1917047079&cat_id=50024399&is_b=1&rn=8b756d3aef83cc55d1544089fdc92033'] ['\\nApple/苹果 13 英寸 ', ' ', ' 1.4GHz 四核处理器 (Turbo Boost 最高可达 3.9GHz) 256GB 存储容量 触控栏和触控 ID\\n'] ['\\nApple Store 官方旗舰店\\n']\n",
      "['//detail.tmall.com/item.htm?id=598716315896&skuId=4611686617143703800&user_id=1917047079&cat_id=50024399&is_b=1&rn=8b756d3aef83cc55d1544089fdc92033'] ['\\nApple/苹果 13 英寸 ', ' ', ' 1.4GHz 四核处理器 (Turbo Boost 最高可达 3.9GHz) 128GB 存储容量 触控栏和触控 ID\\n'] ['\\nApple Store 官方旗舰店\\n']\n",
      "['//detail.tmall.com/item.htm?id=580232053964&skuId=4031832090600&standard=1&user_id=2616970884&cat_id=50024399&is_b=1&rn=8b756d3aef83cc55d1544089fdc92033'] ['\\nApple/苹果 触控栏和触控 ID 2.3GHz 处理器 512GB 存储容量 13\\n'] ['\\n苏宁易购官方旗舰店\\n']\n",
      "['//detail.tmall.com/item.htm?id=596308543405&skuId=4148948285090&standard=1&user_id=2616970884&cat_id=50024399&is_b=1&rn=8b756d3aef83cc55d1544089fdc92033'] ['\\nApple/苹果 触控栏和触控 ID 2.6GHz 六核处理器 (Turbo Boost\\n'] ['\\n苏宁易购官方旗舰店\\n']\n",
      "['//detail.tmall.com/item.htm?id=580358634075&skuId=4324387563557&standard=1&user_id=2616970884&cat_id=50024399&is_b=1&rn=8b756d3aef83cc55d1544089fdc92033'] ['\\nApple/苹果 触控栏和触控 ID 2.6GHz 处理器 512GB 存储容量 15\\n'] ['\\n苏宁易购官方旗舰店\\n']\n",
      "['//detail.tmall.com/item.htm?id=598418850958&skuId=4611686616846238862&standard=1&user_id=1917047079&cat_id=50024399&is_b=1&rn=8b756d3aef83cc55d1544089fdc92033'] ['\\nApple/苹果 1.4GHz 四核处理器 (Turbo Boost 最高可达 3.9GHz)\\n'] ['\\nApple Store 官方旗舰店\\n']\n",
      "['//detail.tmall.com/item.htm?id=553388086354&skuId=3574503340477&standard=1&user_id=1669409267&cat_id=50024399&is_b=1&rn=8b756d3aef83cc55d1544089fdc92033'] ['\\nApple/苹果 13英寸：', ' ', ' 128GB\\n'] ['\\n卓辰数码旗舰店\\n']\n",
      "['//detail.tmall.com/item.htm?id=597772437593&skuId=4611686616199825497&user_id=1917047079&cat_id=50024399&is_b=1&rn=8b756d3aef83cc55d1544089fdc92033'] ['\\nApple/苹果 13 英寸 ', ' ', ' 触控栏和触控 ID 2.4GHz 四核处理器 (Turbo Boost 最高可达 4.1GHz) 256GB 存储容量\\n'] ['\\nApple Store 官方旗舰店\\n']\n",
      "['//detail.tmall.com/item.htm?id=597771433488&skuId=4611686616198821392&user_id=1917047079&cat_id=50024399&is_b=1&rn=8b756d3aef83cc55d1544089fdc92033'] ['\\nApple/苹果 15 英寸 ', ' ', ' 触控栏和触控 ID 2.3GHz 八核处理器 (Turbo Boost 最高可达 4.8GHz) 512GB 存储容量\\n'] ['\\nApple Store 官方旗舰店\\n']\n",
      "['//detail.tmall.com/item.htm?id=573764920758&skuId=4321623542681&standard=1&user_id=2616970884&cat_id=50024399&is_b=1&rn=8b756d3aef83cc55d1544089fdc92033'] ['\\nApple/苹果 触控栏和触控 ID 2.2GHz 处理器 256GB 存储容量 15\\n'] ['\\n苏宁易购官方旗舰店\\n']\n",
      "['//detail.tmall.com/item.htm?id=45770557481&skuId=92850839719&user_id=1708919206&cat_id=50024399&is_b=1&rn=8b756d3aef83cc55d1544089fdc92033'] ['\\nApple/苹果 ', ' ', ' MJLQ2CH/A\\n'] ['\\n禾木林数码专营店\\n']\n",
      "['//detail.tmall.com/item.htm?id=583089706422&skuId=4215551423204&user_id=4036567658&cat_id=50024399&is_b=1&rn=8b756d3aef83cc55d1544089fdc92033'] ['\\nApple/苹果 13 英寸 2.3GHz 处理器 128GB 存储容量 ', ' ', '\\n'] ['\\n迈向数码旗舰店\\n']\n",
      "['//detail.tmall.com/item.htm?id=597352770017&skuId=4153797520962&user_id=4078784152&cat_id=50024399&is_b=1&rn=8b756d3aef83cc55d1544089fdc92033'] ['\\nApple/苹果 ', ' ', ' 15 英寸 2.3 GHz Retina 显示屏\\n'] ['\\n鑫辉数码旗舰店\\n']\n",
      "['//detail.tmall.com/item.htm?id=586684452137&skuId=4188793231105&user_id=2200694614520&cat_id=50024399&is_b=1&rn=8b756d3aef83cc55d1544089fdc92033'] ['\\nApple/苹果 ', ' ', ' MPXQ2CH/A\\n'] ['\\n启首数码旗舰店\\n']\n",
      "['//detail.tmall.com/item.htm?id=597959318184&skuId=4611686616386706088&user_id=1917047079&cat_id=50024399&is_b=1&rn=8b756d3aef83cc55d1544089fdc92033'] ['\\nApple/苹果 15 英寸 ', ' ', ' 触控栏和触控 ID 2.6GHz 六核处理器 (Turbo Boost 最高可达 4.5GHz) 256GB 存储容量\\n'] ['\\nApple Store 官方旗舰店\\n']\n",
      "['//detail.tmall.com/item.htm?id=598975927961&skuId=4171688952918&user_id=2200785402219&cat_id=50024399&is_b=1&rn=8b756d3aef83cc55d1544089fdc92033'] ['\\nApple/苹果 1.6GHz 双核处理器，Turbo Boost 最高可达 3.6GHz\\n'] ['\\n云杏旗舰店\\n']\n",
      "['//detail.tmall.com/item.htm?id=597957674704&skuId=4611686616385062608&user_id=1917047079&cat_id=50024399&is_b=1&rn=8b756d3aef83cc55d1544089fdc92033'] ['\\nApple/苹果 13 英寸 ', ' ', ' 触控栏和触控 ID 2.4GHz 四核处理器 (Turbo Boost 最高可达 4.1GHz) 512GB 存储容量\\n'] ['\\nApple Store 官方旗舰店\\n']\n",
      "['//detail.tmall.com/item.htm?id=598143935647&skuId=4611686616571323551&user_id=1917047079&cat_id=50024399&is_b=1&rn=8b756d3aef83cc55d1544089fdc92033'] ['\\nApple/苹果 15 英寸 ', ' ', ' 触控栏和触控 ID 2.3GHz 八核处理器 (Turbo Boost 最高可达 4.8GHz) 512GB 存储容量\\n'] ['\\nApple Store 官方旗舰店\\n']\n",
      "['//detail.tmall.com/item.htm?id=597773301798&skuId=4611686616200689702&user_id=1917047079&cat_id=50024399&is_b=1&rn=8b756d3aef83cc55d1544089fdc92033'] ['\\nApple/苹果 13 英寸 ', ' ', ' 触控栏和触控 ID 2.4GHz 四核处理器 (Turbo Boost 最高可达 4.1GHz) 512GB 存储容量\\n'] ['\\nApple Store 官方旗舰店\\n']\n",
      "['//detail.tmall.com/item.htm?id=590274255570&skuId=4127450024822&user_id=2200719164073&cat_id=50024399&is_b=1&rn=8b756d3aef83cc55d1544089fdc92033'] ['\\nApple/苹果 15英寸：', ' ', ' MR932CH/A MR962CH/A\\n'] ['\\n彪客数码旗舰店\\n']\n",
      "['//detail.tmall.com/item.htm?id=590267431070&skuId=4300028703994&user_id=2200719164073&cat_id=50024399&is_b=1&rn=8b756d3aef83cc55d1544089fdc92033'] ['\\nApple/苹果 13英寸：', ' ', ' 2.0GHz 处理器 256GB 存储容量\\n'] ['\\n彪客数码旗舰店\\n']\n",
      "['//detail.tmall.com/item.htm?id=590661724373&skuId=4222977342537&user_id=2200669326312&cat_id=50024399&is_b=1&rn=8b756d3aef83cc55d1544089fdc92033'] ['\\nApple/苹果 15英寸：', ' ', ' MR942CH/A MR972CH/A\\n'] ['\\n赛尔校园先锋旗舰店\\n']\n",
      "['//detail.tmall.com/item.htm?id=598107376899&skuId=4611686616534764803&user_id=1917047079&cat_id=50024399&is_b=1&rn=8b756d3aef83cc55d1544089fdc92033'] ['\\nApple/苹果 13 英寸 ', ' ', ' 1.4GHz 四核处理器 (Turbo Boost 最高可达 3.9GHz) 128GB 存储容量 触控栏和触控 ID\\n'] ['\\nApple Store 官方旗舰店\\n']\n",
      "['//detail.tmall.com/item.htm?id=598111700333&skuId=4611686616539088237&user_id=1917047079&cat_id=50024399&is_b=1&rn=8b756d3aef83cc55d1544089fdc92033'] ['\\nApple/苹果 13 英寸 ', ' ', ' 1.4GHz 四核处理器 (Turbo Boost 最高可达 3.9GHz) 256GB 存储容量 触控栏和触控 ID\\n'] ['\\nApple Store 官方旗舰店\\n']\n",
      "['//detail.tmall.com/item.htm?id=579514346526&skuId=4019313930929&user_id=4036567658&cat_id=50024399&is_b=1&rn=8b756d3aef83cc55d1544089fdc92033'] ['\\nApple/苹果 13 英寸 2.3GHz 处理器 256GB 存储容量 ', ' ', '\\n'] ['\\n迈向数码旗舰店\\n']\n",
      "['//detail.tmall.com/item.htm?id=598345957417&skuId=4611686616773345321&user_id=1917047079&cat_id=50024399&is_b=1&rn=8b756d3aef83cc55d1544089fdc92033'] ['\\nApple/苹果 13 英寸 ', ' ', ' 1.4GHz 四核处理器 (Turbo Boost 最高可达 3.9GHz) 256GB 存储容量 触控栏和触控 ID\\n'] ['\\nApple Store 官方旗舰店\\n']\n",
      "['//detail.tmall.com/item.htm?id=598145003197&skuId=4611686616572391101&user_id=1917047079&cat_id=50024399&is_b=1&rn=8b756d3aef83cc55d1544089fdc92033'] ['\\nApple/苹果 15 英寸 ', ' ', ' 触控栏和触控 ID 2.3GHz 八核处理器 (Turbo Boost 最高可达 4.8GHz) 512GB 存储容量\\n'] ['\\nApple Store 官方旗舰店\\n']\n",
      "['//detail.tmall.com/item.htm?id=590106550145&skuId=4207374286031&user_id=2200719164073&cat_id=50024399&is_b=1&rn=8b756d3aef83cc55d1544089fdc92033'] ['\\nApple/苹果 13英寸：', ' ', ' Multi-Touch Bar 和 Touch ID\\n'] ['\\n彪客数码旗舰店\\n']\n",
      "['//detail.tmall.com/item.htm?id=597773029607&skuId=4611686616200417511&user_id=1917047079&cat_id=50024399&is_b=1&rn=8b756d3aef83cc55d1544089fdc92033'] ['\\nApple/苹果 13 英寸 ', ' ', ' 触控栏和触控 ID 2.4GHz 四核处理器 (Turbo Boost 最高可达 4.1GHz) 512GB 存储容量\\n'] ['\\nApple Store 官方旗舰店\\n']\n",
      "['//detail.tmall.com/item.htm?id=597957090566&skuId=4611686616384478470&user_id=1917047079&cat_id=50024399&is_b=1&rn=8b756d3aef83cc55d1544089fdc92033'] ['\\nApple/苹果 13 英寸 ', ' ', ' 触控栏和触控 ID 2.4GHz 四核处理器 (Turbo Boost 最高可达 4.1GHz) 256GB 存储容量\\n'] ['\\nApple Store 官方旗舰店\\n']\n",
      "['//detail.tmall.com/item.htm?id=586768628719&skuId=4157772302223&user_id=2200694614520&cat_id=50024399&is_b=1&rn=8b756d3aef83cc55d1544089fdc92033'] ['\\nApple/苹果 ', ' ', ' MPXT2CH/A\\n'] ['\\n启首数码旗舰店\\n']\n",
      "['//detail.tmall.com/item.htm?id=598145015865&skuId=4611686616572403769&user_id=1917047079&cat_id=50024399&is_b=1&rn=8b756d3aef83cc55d1544089fdc92033'] ['\\nApple/苹果 13 英寸 ', ' ', ' 触控栏和触控 ID 2.4GHz 四核处理器 (Turbo Boost 最高可达 4.1GHz) 256GB 存储容量\\n'] ['\\nApple Store 官方旗舰店\\n']\n",
      "['//detail.tmall.com/item.htm?id=597774381190&skuId=4611686616201769094&user_id=1917047079&cat_id=50024399&is_b=1&rn=8b756d3aef83cc55d1544089fdc92033'] ['\\nApple/苹果 15 英寸 ', ' ', ' 触控栏和触控 ID 2.6GHz 六核处理器 (Turbo Boost 最高可达 4.5GHz) 256GB 存储容量\\n'] ['\\nApple Store 官方旗舰店\\n']\n",
      "['//detail.tmall.com/item.htm?id=597959530173&skuId=4611686616386918077&user_id=1917047079&cat_id=50024399&is_b=1&rn=8b756d3aef83cc55d1544089fdc92033'] ['\\nApple/苹果 15 英寸 ', ' ', ' 触控栏和触控 ID 2.6GHz 六核处理器 (Turbo Boost 最高可达 4.5GHz) 256GB 存储容量\\n'] ['\\nApple Store 官方旗舰店\\n']\n",
      "['//detail.tmall.com/item.htm?id=598527466386&skuId=4611686616954854290&user_id=1917047079&cat_id=50024399&is_b=1&rn=8b756d3aef83cc55d1544089fdc92033'] ['\\nApple/苹果 13 英寸 ', ' ', ' 1.4GHz 四核处理器 (Turbo Boost 最高可达 3.9GHz) 128GB 存储容量 触控栏和触控 ID\\n'] ['\\nApple Store 官方旗舰店\\n']\n",
      "['//detail.tmall.com/item.htm?id=598367920538&skuId=4175019341197&user_id=2200785402219&cat_id=50024399&is_b=1&rn=8b756d3aef83cc55d1544089fdc92033'] ['\\nApple/苹果 1.6GHz 双核处理器，Turbo Boost 最高可达 3.6GHz\\n'] ['\\n云杏旗舰店\\n']\n"
     ]
    }
   ],
   "source": [
    "driver.get('http://www.tmall.com')\n",
    "input_xpath = driver.find_element_by_xpath('//*[@id=\"mq\"]') #search box\n",
    "input_xpath.clear() #before entering the box, clear first incase there were text\n",
    "input_xpath.send_keys('macbook pro')\n",
    "search_butt = driver.find_element_by_xpath('//*[@id=\"mallSearch\"]/form/fieldset/div/button')\n",
    "search_butt.click()\n",
    "\n",
    "html_str = driver.page_source\n",
    "\n",
    "from lxml import etree\n",
    "\n",
    "html = etree.HTML(html_str)\n",
    "\n",
    "product_list = html.xpath('//*[@id=\"J_ItemList\"]/div')\n",
    "\n",
    "for product in product_list:\n",
    "    pic = product.xpath('.//a[@class = \"productImg\"]/@href')\n",
    "    title = product.xpath('.//p[@class = \"productTitle\"]/a/text()')\n",
    "    shop = product.xpath('.//a[@class = \"productShop-name\"]/text()')\n",
    "    print(pic, title, shop)"
   ]
  },
  {
   "cell_type": "code",
   "execution_count": null,
   "metadata": {},
   "outputs": [],
   "source": []
  }
 ],
 "metadata": {
  "kernelspec": {
   "display_name": "Python 3",
   "language": "python",
   "name": "python3"
  },
  "language_info": {
   "codemirror_mode": {
    "name": "ipython",
    "version": 3
   },
   "file_extension": ".py",
   "mimetype": "text/x-python",
   "name": "python",
   "nbconvert_exporter": "python",
   "pygments_lexer": "ipython3",
   "version": "3.6.5"
  }
 },
 "nbformat": 4,
 "nbformat_minor": 2
}
