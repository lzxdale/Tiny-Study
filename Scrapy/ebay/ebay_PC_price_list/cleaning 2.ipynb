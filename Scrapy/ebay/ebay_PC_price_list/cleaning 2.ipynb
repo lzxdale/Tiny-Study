{
 "cells": [
  {
   "cell_type": "code",
   "execution_count": 28,
   "metadata": {},
   "outputs": [],
   "source": [
    "import pandas as pd\n",
    "import pandas_profiling\n",
    "import numpy as np"
   ]
  },
  {
   "cell_type": "code",
   "execution_count": 9,
   "metadata": {},
   "outputs": [],
   "source": [
    "df = pd.read_csv('PC_ebay_list2.csv')"
   ]
  },
  {
   "cell_type": "code",
   "execution_count": 10,
   "metadata": {},
   "outputs": [],
   "source": [
    "profile = pandas_profiling.ProfileReport(df)"
   ]
  },
  {
   "cell_type": "code",
   "execution_count": 11,
   "metadata": {},
   "outputs": [],
   "source": [
    "profile.to_file(\"PC_ebay.html\")"
   ]
  },
  {
   "cell_type": "code",
   "execution_count": 15,
   "metadata": {},
   "outputs": [],
   "source": [
    "type_lp = list(set(df['Series']))"
   ]
  },
  {
   "cell_type": "code",
   "execution_count": 19,
   "metadata": {},
   "outputs": [
    {
     "data": {
      "text/plain": [
       "{'7-series': [],\n",
       " 'Elitebook': [],\n",
       " '5-series': [],\n",
       " 'Probook': [],\n",
       " 'T-series': [],\n",
       " 'E-series': []}"
      ]
     },
     "execution_count": 19,
     "metadata": {},
     "output_type": "execute_result"
    }
   ],
   "source": [
    "price_list = {}\n",
    "for i in type_lp:\n",
    "    price_list[i] = []\n",
    "price_list"
   ]
  },
  {
   "cell_type": "code",
   "execution_count": 23,
   "metadata": {},
   "outputs": [],
   "source": [
    "for i in df.values:\n",
    "    price_list[i[1]].append(i[3])"
   ]
  },
  {
   "cell_type": "code",
   "execution_count": 29,
   "metadata": {},
   "outputs": [],
   "source": [
    "for i in price_list:\n",
    "    price_list[i] = np.array(price_list[i])"
   ]
  },
  {
   "cell_type": "code",
   "execution_count": 55,
   "metadata": {},
   "outputs": [],
   "source": [
    "data = {}\n",
    "for i in price_list:\n",
    "    Q1 = np.percentile(price_list[i],25)\n",
    "    Q3 = np.percentile(price_list[i],75)\n",
    "    med = np.median(price_list[i])\n",
    "    d_max = np.max(price_list[i])\n",
    "    d_min = np.min(price_list[i])\n",
    "    num = len(price_list[i])\n",
    "    avg = np.average(price_list[i])\n",
    "    data[i] = {'Q1':'$'+str(Q1),'Q3':'$'+str(Q3),'Median':'$'+str(med),\"Max\":'$'+str(d_max),\"Min\":'$'+str(d_min),'Number':num,'Average':'$'+str(avg)}"
   ]
  },
  {
   "cell_type": "code",
   "execution_count": 57,
   "metadata": {},
   "outputs": [],
   "source": [
    "pd.DataFrame(data).to_csv('tmp.csv')"
   ]
  },
  {
   "cell_type": "code",
   "execution_count": 56,
   "metadata": {},
   "outputs": [
    {
     "data": {
      "text/plain": [
       "{'7-series': {'Q1': '$249.0',\n",
       "  'Q3': '$529.0',\n",
       "  'Median': '$350.0',\n",
       "  'Max': '$2599.99',\n",
       "  'Min': '$74.0',\n",
       "  'Number': 249,\n",
       "  'Average': '$480.0799196787148'},\n",
       " 'Elitebook': {'Q1': '$199.98499999999999',\n",
       "  'Q3': '$345.6625',\n",
       "  'Median': '$276.995',\n",
       "  'Max': '$950.0',\n",
       "  'Min': '$62.39',\n",
       "  'Number': 102,\n",
       "  'Average': '$283.40617647058826'},\n",
       " '5-series': {'Q1': '$215.0',\n",
       "  'Q3': '$425.0',\n",
       "  'Median': '$289.99',\n",
       "  'Max': '$2799.99',\n",
       "  'Min': '$93.0',\n",
       "  'Number': 141,\n",
       "  'Average': '$360.32900709219865'},\n",
       " 'Probook': {'Q1': '$140.99',\n",
       "  'Q3': '$355.235',\n",
       "  'Median': '$199.99',\n",
       "  'Max': '$2600.0',\n",
       "  'Min': '$70.0',\n",
       "  'Number': 63,\n",
       "  'Average': '$324.03841269841274'},\n",
       " 'T-series': {'Q1': '$202.5',\n",
       "  'Q3': '$390.29499999999996',\n",
       "  'Median': '$294.99',\n",
       "  'Max': '$999.0',\n",
       "  'Min': '$62.09',\n",
       "  'Number': 187,\n",
       "  'Average': '$325.22010695187157'},\n",
       " 'E-series': {'Q1': '$100.0',\n",
       "  'Q3': '$268.1625',\n",
       "  'Median': '$164.195',\n",
       "  'Max': '$1123.55',\n",
       "  'Min': '$69.99',\n",
       "  'Number': 36,\n",
       "  'Average': '$242.61527777777778'}}"
      ]
     },
     "execution_count": 56,
     "metadata": {},
     "output_type": "execute_result"
    }
   ],
   "source": [
    "data"
   ]
  },
  {
   "cell_type": "code",
   "execution_count": null,
   "metadata": {},
   "outputs": [],
   "source": []
  }
 ],
 "metadata": {
  "kernelspec": {
   "display_name": "Python 3",
   "language": "python",
   "name": "python3"
  },
  "language_info": {
   "codemirror_mode": {
    "name": "ipython",
    "version": 3
   },
   "file_extension": ".py",
   "mimetype": "text/x-python",
   "name": "python",
   "nbconvert_exporter": "python",
   "pygments_lexer": "ipython3",
   "version": "3.6.5"
  }
 },
 "nbformat": 4,
 "nbformat_minor": 2
}
