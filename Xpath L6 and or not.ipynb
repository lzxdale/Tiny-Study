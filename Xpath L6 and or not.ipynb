{
 "cells": [
  {
   "cell_type": "code",
   "execution_count": 12,
   "metadata": {},
   "outputs": [],
   "source": [
    "from lxml import etree\n",
    "html_str = \"\"\"\n",
    "<body>\n",
    "<div class=\"container\">\n",
    "    <div id=\"first\">\n",
    "        <div class=\"one\">city</div>\n",
    "        <div class=\"two\">york</div>\n",
    "        <div class=\"two three\">Ace</div>\n",
    "        <a>\n",
    "            <div class=\"spe\">VIP</div>\n",
    "        </a>\n",
    "    </div>\n",
    "    <div id=\"second\">\n",
    "        <div class=\"three four\">fee</div>\n",
    "        <div class=\"three\">something</div>\n",
    "        <div class=\"four\">learning</div>\n",
    "    </div>\n",
    "    <div id=\"third\">\n",
    "        <div class=\"three six\">fee</div>\n",
    "        <div class=\"three seven\">nothing</div>\n",
    "    </div>\n",
    "</div>\n",
    "</body>\n",
    "\"\"\"\n",
    "html = etree.HTML(html_str)"
   ]
  },
  {
   "cell_type": "code",
   "execution_count": 9,
   "metadata": {},
   "outputs": [
    {
     "name": "stdout",
     "output_type": "stream",
     "text": [
      "['first', 'third']\n"
     ]
    }
   ],
   "source": [
    "print(html.xpath('.//div[contains(@id, \"i\")]/@id')) #contains"
   ]
  },
  {
   "cell_type": "markdown",
   "metadata": {},
   "source": [
    "### Use of and"
   ]
  },
  {
   "cell_type": "code",
   "execution_count": 14,
   "metadata": {},
   "outputs": [
    {
     "name": "stdout",
     "output_type": "stream",
     "text": [
      "['Ace', 'fee', 'something', 'fee', 'nothing']\n"
     ]
    }
   ],
   "source": [
    "print(html.xpath('.//div[contains(@class, \"three\")]/text()'))"
   ]
  },
  {
   "cell_type": "code",
   "execution_count": 18,
   "metadata": {},
   "outputs": [
    {
     "name": "stdout",
     "output_type": "stream",
     "text": [
      "['three', 'three seven']\n"
     ]
    }
   ],
   "source": [
    "print(html.xpath('.//div[contains(@class, \"three\") and contains(text(), \"thing\")]/@class'))"
   ]
  },
  {
   "cell_type": "markdown",
   "metadata": {},
   "source": [
    "### Use of or"
   ]
  },
  {
   "cell_type": "code",
   "execution_count": 19,
   "metadata": {},
   "outputs": [
    {
     "name": "stdout",
     "output_type": "stream",
     "text": [
      "['two three', 'three four', 'three', 'three six', 'three seven']\n"
     ]
    }
   ],
   "source": [
    "print(html.xpath('.//div[contains(@class, \"three\") or contains(text(), \"thing\")]/@class'))"
   ]
  },
  {
   "cell_type": "markdown",
   "metadata": {},
   "source": [
    "### Use of not"
   ]
  },
  {
   "cell_type": "code",
   "execution_count": 22,
   "metadata": {},
   "outputs": [
    {
     "name": "stdout",
     "output_type": "stream",
     "text": [
      "[<Element div at 0x112a296c8>, <Element div at 0x112a29b48>, <Element div at 0x112a297c8>, <Element div at 0x112a29c48>, <Element div at 0x112a29cc8>, <Element div at 0x112a29d08>, <Element div at 0x112a29d48>, <Element div at 0x112a29d88>, <Element div at 0x112a29dc8>, <Element div at 0x112a29c88>, <Element div at 0x112a29e08>, <Element div at 0x112a29e48>, <Element div at 0x112a29e88>]\n"
     ]
    }
   ],
   "source": [
    "divs = html.xpath('.//div')\n",
    "print(divs)"
   ]
  },
  {
   "cell_type": "code",
   "execution_count": 34,
   "metadata": {},
   "outputs": [
    {
     "name": "stdout",
     "output_type": "stream",
     "text": [
      "[<Element div at 0x112a296c8>, <Element div at 0x112a297c8>, <Element div at 0x112a29c48>, <Element div at 0x112a29cc8>, <Element div at 0x112a29d08>, <Element div at 0x112a29d88>, <Element div at 0x112a29dc8>, <Element div at 0x112a29c88>, <Element div at 0x112a29e48>, <Element div at 0x112a29e88>] 10\n"
     ]
    }
   ],
   "source": [
    "divs = html.xpath('.//div[not(@id)]')\n",
    "print(divs, len(divs))"
   ]
  },
  {
   "cell_type": "code",
   "execution_count": 36,
   "metadata": {},
   "outputs": [
    {
     "name": "stdout",
     "output_type": "stream",
     "text": [
      "['container', 'one', 'two', 'two three', 'spe', 'three four', 'three', 'four', 'three six', 'three seven'] 10\n"
     ]
    }
   ],
   "source": [
    "divs = html.xpath('.//div[not(@id =\"first\")]/@class')\n",
    "print(divs, len(divs))"
   ]
  },
  {
   "cell_type": "code",
   "execution_count": null,
   "metadata": {},
   "outputs": [],
   "source": []
  }
 ],
 "metadata": {
  "kernelspec": {
   "display_name": "Python 3",
   "language": "python",
   "name": "python3"
  },
  "language_info": {
   "codemirror_mode": {
    "name": "ipython",
    "version": 3
   },
   "file_extension": ".py",
   "mimetype": "text/x-python",
   "name": "python",
   "nbconvert_exporter": "python",
   "pygments_lexer": "ipython3",
   "version": "3.6.5"
  }
 },
 "nbformat": 4,
 "nbformat_minor": 2
}
