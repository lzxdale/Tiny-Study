{
 "cells": [
  {
   "cell_type": "code",
   "execution_count": 1,
   "metadata": {},
   "outputs": [],
   "source": [
    "from lxml import etree\n",
    "html_str = \"\"\"\n",
    "<!DOCTYPE html>\n",
    "<html lang=\"en\">\n",
    "<head>\n",
    "    <meta charset=\"UTF-8\">\n",
    "    <title>Website name</title>\n",
    "</head>\n",
    "<body>\n",
    "    <div>\n",
    "        div-text\n",
    "        <span>span-text</span>\n",
    "        <a>a-text</a>\n",
    "        <p>p-text</p>\n",
    "    </div>\n",
    "    <table>\n",
    "        <tr>\n",
    "            <th>Heading</th>\n",
    "            <th>Another Heading</th>\n",
    "        </tr>\n",
    "        <tr>\n",
    "            <td>row 1, cell 1</td>\n",
    "            <td>row 1, cell 2</td>\n",
    "        </tr>\n",
    "        table-text-2\n",
    "    </table>\n",
    "</body>\n",
    "</html>\n",
    "\"\"\"\n",
    "html = etree.HTML(html_str)"
   ]
  },
  {
   "cell_type": "code",
   "execution_count": 2,
   "metadata": {},
   "outputs": [
    {
     "name": "stdout",
     "output_type": "stream",
     "text": [
      "['Website name']\n"
     ]
    }
   ],
   "source": [
    "print(html.xpath('/html/head/title/text()')) #text() will get the string bewteen the tag"
   ]
  },
  {
   "cell_type": "code",
   "execution_count": 5,
   "metadata": {},
   "outputs": [
    {
     "name": "stdout",
     "output_type": "stream",
     "text": [
      "['Website name']\n",
      "[]\n",
      "[<Element body at 0x10d5d1608>]\n",
      "[]\n",
      "[<Element html at 0x10d5d1488>]\n",
      "[]\n",
      "[]\n",
      "[<Element body at 0x10d62c208>]\n",
      "[<Element head at 0x10d62c208>]\n"
     ]
    }
   ],
   "source": [
    "#compare adding html or not\n",
    "print(html.xpath('head/title/text()'))\n",
    "print(html.xpath('html'))\n",
    "print(html.xpath('body'))\n",
    "print(html.xpath('title'))\n",
    "print(html.xpath('../html')) #represent itself\n",
    "print(html.xpath('..'))\n",
    "print(html.xpath('./html')) #not exist. html subclass dont have html\n",
    "print(html.xpath('./body')) \n",
    "print(html.xpath('./head'))\n",
    "\n",
    "#conclusion, the starting point is <html>\n",
    "#xpath is about translate, True then have index, else blank"
   ]
  },
  {
   "cell_type": "code",
   "execution_count": 11,
   "metadata": {},
   "outputs": [
    {
     "name": "stdout",
     "output_type": "stream",
     "text": [
      "start from begin-----\n",
      "[<Element html at 0x10d5d1488>]\n",
      "[<Element body at 0x10d647e08>]\n",
      "[<Element head at 0x10d647e08>]\n",
      "[<Element td at 0x10d62cf88>, <Element td at 0x10d647e08>]\n",
      "starting from diff pos\n",
      "[<Element td at 0x10d62cf88>, <Element td at 0x10d647e08>]\n",
      "[<Element td at 0x10d62cf88>, <Element td at 0x10d647e08>]\n"
     ]
    }
   ],
   "source": [
    "# Recommand begin for xpath\n",
    "#these start from begining\n",
    "print('start from begin-----')\n",
    "print(html.xpath('/html'))\n",
    "print(html.xpath('body'))\n",
    "print(html.xpath('head'))\n",
    "print(html.xpath('/html/body/table/tr/td'))\n",
    "#\n",
    "print('starting from diff pos')\n",
    "print(html.xpath('//table/tr/td'))\n",
    "\n",
    "#recommand!\n",
    "print(html.xpath('.//table/tr/td'))"
   ]
  },
  {
   "cell_type": "code",
   "execution_count": 12,
   "metadata": {},
   "outputs": [
    {
     "name": "stdout",
     "output_type": "stream",
     "text": [
      "['span-text']\n",
      "['a-text']\n",
      "['p-text']\n"
     ]
    }
   ],
   "source": [
    "print(html.xpath('.//div/span/text()'))\n",
    "print(html.xpath('.//div/a/text()'))\n",
    "print(html.xpath('.//div/p/text()'))"
   ]
  },
  {
   "cell_type": "code",
   "execution_count": 13,
   "metadata": {},
   "outputs": [
    {
     "name": "stdout",
     "output_type": "stream",
     "text": [
      "['\\n        div-text\\n        ', '\\n        ', '\\n        ', '\\n    ']\n"
     ]
    }
   ],
   "source": [
    "print(html.xpath('.//div/text()')) \n",
    "# span, a and p divided up div text(), so there are 4 elements in total."
   ]
  },
  {
   "cell_type": "code",
   "execution_count": 14,
   "metadata": {},
   "outputs": [
    {
     "name": "stdout",
     "output_type": "stream",
     "text": [
      "['\\n        div-text\\n        ', 'span-text', '\\n        ', 'a-text', '\\n        ', 'p-text', '\\n    ']\n"
     ]
    }
   ],
   "source": [
    "print(html.xpath('.//div//text()')) #all text, //(muti-level)"
   ]
  },
  {
   "cell_type": "code",
   "execution_count": 15,
   "metadata": {},
   "outputs": [
    {
     "name": "stdout",
     "output_type": "stream",
     "text": [
      "['\\n        ', '\\n            ', 'Heading', '\\n            ', 'Another Heading', '\\n        ', '\\n        ', '\\n            ', 'row 1, cell 1', '\\n            ', 'row 1, cell 2', '\\n        ', '\\n        table-text-2\\n    ']\n"
     ]
    }
   ],
   "source": [
    "print(html.xpath('.//table//text()'))"
   ]
  },
  {
   "cell_type": "code",
   "execution_count": null,
   "metadata": {},
   "outputs": [],
   "source": []
  }
 ],
 "metadata": {
  "kernelspec": {
   "display_name": "Python 3",
   "language": "python",
   "name": "python3"
  },
  "language_info": {
   "codemirror_mode": {
    "name": "ipython",
    "version": 3
   },
   "file_extension": ".py",
   "mimetype": "text/x-python",
   "name": "python",
   "nbconvert_exporter": "python",
   "pygments_lexer": "ipython3",
   "version": "3.6.5"
  }
 },
 "nbformat": 4,
 "nbformat_minor": 2
}
