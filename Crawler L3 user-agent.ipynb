{
 "cells": [
  {
   "cell_type": "markdown",
   "metadata": {},
   "source": [
    "## The use of User-Agent\n",
    "\n",
    " Example: Mozilla/5.0 (Macintosh; Intel Mac OS X 10_14_4) AppleWebKit/537.36 (KHTML, like Gecko) Chrome/75.0.3770.142 Safari/537.36\n",
    " \n",
    " It contains - User's system, CPU, webbrowser, edition"
   ]
  },
  {
   "cell_type": "code",
   "execution_count": 20,
   "metadata": {},
   "outputs": [],
   "source": [
    "import requests\n",
    "import webbrowser\n",
    "def requests_view(response):\n",
    "    request_url = response.url\n",
    "    base_url = '<head><base href=\"%s\">'%(request_url)\n",
    "    base_url = base_url.encode()\n",
    "    content = response.content.replace(b\"<head>\",base_url)\n",
    "    tem_html = open('tmp.html', 'wb')\n",
    "    tem_html.write(content)\n",
    "    tem_html.close()\n",
    "    webbrowser.open_new_tab(\"tmp.html\")"
   ]
  },
  {
   "cell_type": "code",
   "execution_count": 21,
   "metadata": {},
   "outputs": [],
   "source": [
    "headers={\n",
    "    # using Android phone browser\n",
    "    'User-Agent' : 'Mozilla/5.0 (Linux; Android 6.0; Nexus 5 Build/MRA58N) AppleWebKit/537.36 (KHTML, like Gecko) Chrome/46.0.2490.76 Mobile Safari/537.36'\n",
    "    #using windows firefox browser\n",
    "    #'User-Agent' : 'Mozilla/5.0 (Windows NT 10.0; WOW64; rv:53.0) Gecko/20100101 Firefox/53.0',\n",
    "}\n",
    "# if browser not open, open the tmp.html manually in the file(with this notebook created)\n",
    "requests_view(requests.get('http://sz.ganji.com/zufang/pn1/',headers=headers))"
   ]
  },
  {
   "cell_type": "markdown",
   "metadata": {},
   "source": [
    "## IP Proxy "
   ]
  },
  {
   "cell_type": "code",
   "execution_count": 24,
   "metadata": {},
   "outputs": [],
   "source": [
    "proxies = {'http':'175.16.22.107:80'}\n",
    "requests_view(requests.get('http://www.spbeen.com/tool/request_info/',proxies = proxies))"
   ]
  },
  {
   "cell_type": "markdown",
   "metadata": {},
   "source": [
    "### Website structure and data"
   ]
  },
  {
   "cell_type": "code",
   "execution_count": 26,
   "metadata": {},
   "outputs": [],
   "source": [
    "def requests_view(response, filename):\n",
    "    request_url = response.url\n",
    "    base_url = '<head><base href=\"%s\">'%(request_url)\n",
    "    base_url = base_url.encode()\n",
    "    content = response.content.replace(b\"<head>\",base_url)\n",
    "    tem_html = open(filename+'.html', 'wb')\n",
    "    tem_html.write(content)\n",
    "    tem_html.close()\n",
    "    webbrowser.open_new_tab('filename'+'.html')"
   ]
  },
  {
   "cell_type": "code",
   "execution_count": 34,
   "metadata": {},
   "outputs": [],
   "source": [
    "headers={\n",
    "    # using Android phone browser\n",
    "    #'User-Agent' : 'Mozilla/5.0 (Linux; Android 6.0; Nexus 5 Build/MRA58N) AppleWebKit/537.36 (KHTML, like Gecko) Chrome/46.0.2490.76 Mobile Safari/537.36'\n",
    "    #using windows firefox browser\n",
    "    'User-Agent' : 'Mozilla/5.0 (Windows NT 10.0; WOW64; rv:53.0) Gecko/20100101 Firefox/53.0',\n",
    "}\n",
    "requests_view(requests.get('https://www.jianshu.com/p/9ef80c15d818',headers=headers), 'pyt')"
   ]
  },
  {
   "cell_type": "code",
   "execution_count": 40,
   "metadata": {},
   "outputs": [],
   "source": [
    "comment_url = 'https://www.jianshu.com/notes/42666466/comments?comment_id=&author_only=false&since_id=0&max_id=1586510606000&order_by=desc&page=1'\n",
    "comment = requests.get(comment_url,headers=headers)"
   ]
  },
  {
   "cell_type": "code",
   "execution_count": 42,
   "metadata": {
    "scrolled": false
   },
   "outputs": [],
   "source": [
    "import json\n",
    "com = json.loads(comment.content)"
   ]
  },
  {
   "cell_type": "code",
   "execution_count": 48,
   "metadata": {},
   "outputs": [
    {
     "name": "stdout",
     "output_type": "stream",
     "text": [
      "<class 'list'> 1 1 True\n"
     ]
    }
   ],
   "source": [
    "print(type(com['comments']),com['page'],com['total_pages'],com['comment_exist'])"
   ]
  },
  {
   "cell_type": "code",
   "execution_count": 54,
   "metadata": {},
   "outputs": [
    {
     "name": "stdout",
     "output_type": "stream",
     "text": [
      "公司出这种题时我就感觉这个公司不值得待了 --------by 王梦琦_674c\n",
      "\n",
      "怎么加了你微信没同意啊 --------by 一纸符文\n",
      "\n",
      "题材不错 --------by 大猪大猪\n",
      "\n",
      "不愿意就直接说不愿意，还给他脸了，我曾经也说过场面话，别人一样不相信，反正我又不是只有你一家面试，上哪找工作不是一样的？ --------by 苏秘c\n",
      "\n",
      "当公司遇到这种情况时，看到你为公司尽心尽力工作的时候，我也觉得会向您一样 与公司共进退 --------by 木子李_aaaf\n",
      "\n",
      "回答确定眼前一亮。 --------by 梦中程序员\n",
      "\n",
      "回答机智 --------by 指尖上的iPad\n",
      "\n",
      "我觉得这么问的公司特弱智！ --------by 消遣生活\n",
      "\n"
     ]
    }
   ],
   "source": [
    "comments = com['comments']\n",
    "for i in comments:\n",
    "    print(i['compiled_content'],'--------by',i['user']['nickname'])\n",
    "    print()"
   ]
  },
  {
   "cell_type": "code",
   "execution_count": 51,
   "metadata": {},
   "outputs": [
    {
     "data": {
      "text/plain": [
       "[{'id': 38550378,\n",
       "  'compiled_content': '公司出这种题时我就感觉这个公司不值得待了',\n",
       "  'floor': 10,\n",
       "  'note_id': 42666466,\n",
       "  'user_id': 9816752,\n",
       "  'created_at': '2019-04-07T14:35:10.000+08:00',\n",
       "  'images_count': 0,\n",
       "  'images': [],\n",
       "  'user': {'id': 9816752,\n",
       "   'slug': 'b6aa44c360f8',\n",
       "   'nickname': '王梦琦_674c',\n",
       "   'avatar': 'http://upload.jianshu.io/users/upload_avatars/9816752/a6eb1b12-89f3-4e49-ad1b-369af79dc2b7',\n",
       "   'is_author': False,\n",
       "   'badge': None},\n",
       "  'liked': False,\n",
       "  'likes_count': 0,\n",
       "  'children_count': 0,\n",
       "  'children': []},\n",
       " {'id': 38546174,\n",
       "  'compiled_content': '怎么加了你微信没同意啊',\n",
       "  'floor': 9,\n",
       "  'note_id': 42666466,\n",
       "  'user_id': 2967724,\n",
       "  'created_at': '2019-04-07T12:48:39.000+08:00',\n",
       "  'images_count': 0,\n",
       "  'images': [],\n",
       "  'user': {'id': 2967724,\n",
       "   'slug': 'c20422c537d4',\n",
       "   'nickname': '一纸符文',\n",
       "   'avatar': 'http://upload.jianshu.io/users/upload_avatars/2967724/c3a78e22-d2f5-4bf7-a63f-467da6718902.jpg',\n",
       "   'is_author': False,\n",
       "   'badge': None},\n",
       "  'liked': False,\n",
       "  'likes_count': 0,\n",
       "  'children_count': 0,\n",
       "  'children': []},\n",
       " {'id': 38499030,\n",
       "  'compiled_content': '题材不错',\n",
       "  'floor': 8,\n",
       "  'note_id': 42666466,\n",
       "  'user_id': 9028759,\n",
       "  'created_at': '2019-04-06T19:18:55.000+08:00',\n",
       "  'images_count': 0,\n",
       "  'images': [],\n",
       "  'user': {'id': 9028759,\n",
       "   'slug': '3b4ddfabfd77',\n",
       "   'nickname': '大猪大猪',\n",
       "   'avatar': 'http://upload.jianshu.io/users/upload_avatars/9028759/34271572-fac4-4699-99f0-bedf1de06c6f.jpg',\n",
       "   'is_author': False,\n",
       "   'badge': {'id': 98,\n",
       "    'icon': 'other',\n",
       "    'image': 'user_badge/5203a3bf-1c0f-41db-a6f0-31ddb4a929cb',\n",
       "    'color': None,\n",
       "    'text': '锦鲤',\n",
       "    'created_at': '2019-05-16T18:27:47.000+08:00',\n",
       "    'updated_at': '2019-05-28T18:02:33.000+08:00',\n",
       "    'intro_url': 'https://www.jianshu.com/p/3bc50b869c89',\n",
       "    'count_limit': 1,\n",
       "    'note_recommendation': False,\n",
       "    'note_recommendation_score': '0.0',\n",
       "    'approve_submission': False,\n",
       "    'priority': 100}},\n",
       "  'liked': False,\n",
       "  'likes_count': 0,\n",
       "  'children_count': 0,\n",
       "  'children': []},\n",
       " {'id': 38286795,\n",
       "  'compiled_content': '不愿意就直接说不愿意，还给他脸了，我曾经也说过场面话，别人一样不相信，反正我又不是只有你一家面试，上哪找工作不是一样的？',\n",
       "  'floor': 7,\n",
       "  'note_id': 42666466,\n",
       "  'user_id': 16079319,\n",
       "  'created_at': '2019-04-02T21:20:03.000+08:00',\n",
       "  'images_count': 0,\n",
       "  'images': [],\n",
       "  'user': {'id': 16079319,\n",
       "   'slug': '48d51d85281e',\n",
       "   'nickname': '苏秘c',\n",
       "   'avatar': 'http://upload.jianshu.io/users/upload_avatars/16079319/a8e031e9-928a-4f1d-85c2-551927d4971e',\n",
       "   'is_author': False,\n",
       "   'badge': None},\n",
       "  'liked': False,\n",
       "  'likes_count': 0,\n",
       "  'children_count': 0,\n",
       "  'children': []},\n",
       " {'id': 38262788,\n",
       "  'compiled_content': '当公司遇到这种情况时，看到你为公司尽心尽力工作的时候，我也觉得会向您一样 与公司共进退',\n",
       "  'floor': 6,\n",
       "  'note_id': 42666466,\n",
       "  'user_id': 17121504,\n",
       "  'created_at': '2019-04-02T12:33:14.000+08:00',\n",
       "  'images_count': 0,\n",
       "  'images': [],\n",
       "  'user': {'id': 17121504,\n",
       "   'slug': '5bc08e0bc2de',\n",
       "   'nickname': '木子李_aaaf',\n",
       "   'avatar': 'http://upload.jianshu.io/users/upload_avatars/17121504/ea8a336b-6b38-4f40-b58a-094dc36a6465',\n",
       "   'is_author': False,\n",
       "   'badge': None},\n",
       "  'liked': False,\n",
       "  'likes_count': 1,\n",
       "  'children_count': 0,\n",
       "  'children': []},\n",
       " {'id': 38030482,\n",
       "  'compiled_content': '回答确定眼前一亮。',\n",
       "  'floor': 5,\n",
       "  'note_id': 42666466,\n",
       "  'user_id': 17045134,\n",
       "  'created_at': '2019-03-28T21:58:23.000+08:00',\n",
       "  'images_count': 0,\n",
       "  'images': [],\n",
       "  'user': {'id': 17045134,\n",
       "   'slug': '979534bc9039',\n",
       "   'nickname': '梦中程序员',\n",
       "   'avatar': 'http://upload.jianshu.io/users/upload_avatars/17045134/27b57b15-5793-4931-b4da-f9d00f6fa45a.jpg',\n",
       "   'is_author': False,\n",
       "   'badge': None},\n",
       "  'liked': False,\n",
       "  'likes_count': 1,\n",
       "  'children_count': 0,\n",
       "  'children': []},\n",
       " {'id': 38011594,\n",
       "  'compiled_content': '回答机智',\n",
       "  'floor': 3,\n",
       "  'note_id': 42666466,\n",
       "  'user_id': 5298145,\n",
       "  'created_at': '2019-03-28T15:34:40.000+08:00',\n",
       "  'images_count': 0,\n",
       "  'images': [],\n",
       "  'user': {'id': 5298145,\n",
       "   'slug': '5c48710f502e',\n",
       "   'nickname': '指尖上的iPad',\n",
       "   'avatar': 'http://upload.jianshu.io/users/upload_avatars/5298145/5fd0254e-e2e3-4cf0-bdda-716df9394ab4',\n",
       "   'is_author': False,\n",
       "   'badge': None},\n",
       "  'liked': False,\n",
       "  'likes_count': 0,\n",
       "  'children_count': 0,\n",
       "  'children': []},\n",
       " {'id': 37950101,\n",
       "  'compiled_content': '我觉得这么问的公司特弱智！',\n",
       "  'floor': 2,\n",
       "  'note_id': 42666466,\n",
       "  'user_id': 8331549,\n",
       "  'created_at': '2019-03-27T07:19:53.000+08:00',\n",
       "  'images_count': 0,\n",
       "  'images': [],\n",
       "  'user': {'id': 8331549,\n",
       "   'slug': 'c1cd6d932add',\n",
       "   'nickname': '消遣生活',\n",
       "   'avatar': 'http://cdn2.jianshu.io/assets/default_avatar/15-a7ac401939dd4df837e3bbf82abaa2a8.jpg',\n",
       "   'is_author': False,\n",
       "   'badge': None},\n",
       "  'liked': False,\n",
       "  'likes_count': 1,\n",
       "  'children_count': 2,\n",
       "  'children': [{'id': 37950342,\n",
       "    'compiled_content': '这个年代不适合问这种问题，毕竟衣食住行现在全都是靠自己解决，倒退二十年，至少房子是可以单位分房，吃饭有单位食堂，那个年代，企业困难的话可以留下来，就算俩月不发工资，吃住没啥问题，对吧',\n",
       "    'user_id': 3789818,\n",
       "    'parent_id': 37950101,\n",
       "    'images_count': 0,\n",
       "    'images': [],\n",
       "    'created_at': '2019-03-27T07:24:11.000+08:00',\n",
       "    'user': {'id': 3789818, 'slug': '770d4cae4022', 'nickname': '木景蔓'}},\n",
       "   {'id': 37954234,\n",
       "    'compiled_content': '<a href=\"/u/770d4cae4022\" class=\"maleskine-author\" target=\"_blank\" data-user-slug=\"770d4cae4022\">@木景蔓</a> 这个问题关键是面试的多数不会给自己的想法的！',\n",
       "    'user_id': 8331549,\n",
       "    'parent_id': 37950101,\n",
       "    'images_count': 0,\n",
       "    'images': [],\n",
       "    'created_at': '2019-03-27T08:46:28.000+08:00',\n",
       "    'user': {'id': 8331549, 'slug': 'c1cd6d932add', 'nickname': '消遣生活'}}]}]"
      ]
     },
     "execution_count": 51,
     "metadata": {},
     "output_type": "execute_result"
    }
   ],
   "source": [
    "comments"
   ]
  },
  {
   "cell_type": "code",
   "execution_count": null,
   "metadata": {},
   "outputs": [],
   "source": []
  }
 ],
 "metadata": {
  "kernelspec": {
   "display_name": "Python 3",
   "language": "python",
   "name": "python3"
  },
  "language_info": {
   "codemirror_mode": {
    "name": "ipython",
    "version": 3
   },
   "file_extension": ".py",
   "mimetype": "text/x-python",
   "name": "python",
   "nbconvert_exporter": "python",
   "pygments_lexer": "ipython3",
   "version": "3.6.5"
  }
 },
 "nbformat": 4,
 "nbformat_minor": 2
}
