{
 "cells": [
  {
   "cell_type": "code",
   "execution_count": 9,
   "metadata": {},
   "outputs": [],
   "source": [
    "from lxml import etree\n",
    "html_str = \"\"\"\n",
    "<body>\n",
    "<div class=\"container\">\n",
    "    <div id=\"first\">\n",
    "        <div class=\"one\">city</div>\n",
    "        <div class=\"two\">york</div>\n",
    "        <div class=\"two\">Ace</div>\n",
    "        <a>\n",
    "            <div class=\"spe\">VIP</div>\n",
    "        </a>\n",
    "    </div>\n",
    "    <div id=\"second\">\n",
    "        <div class=\" three four\">fee</div>\n",
    "        <div class=\"three\">something</div>\n",
    "        <div class=\"four\">learning</div>\n",
    "    </div>\n",
    "    <div id=\"third\">\n",
    "        <div class=\" three\">fee</div>\n",
    "        <div class=\"three\">nothing</div>\n",
    "    </div>\n",
    "</div>\n",
    "</body>\n",
    "\"\"\"\n",
    "html = etree.HTML(html_str)"
   ]
  },
  {
   "cell_type": "code",
   "execution_count": 3,
   "metadata": {},
   "outputs": [
    {
     "name": "stdout",
     "output_type": "stream",
     "text": [
      "['fee', 'something', 'fee', 'nothing']\n"
     ]
    }
   ],
   "source": [
    "print(html.xpath(\".//div[@class='three']/text()\"))"
   ]
  },
  {
   "cell_type": "code",
   "execution_count": 6,
   "metadata": {},
   "outputs": [
    {
     "name": "stdout",
     "output_type": "stream",
     "text": [
      "['something', 'nothing']\n"
     ]
    }
   ],
   "source": [
    "#add a space in id second and third\n",
    "#rerun first script\n",
    "print(html.xpath(\".//div[@class='three']/text()\"))"
   ]
  },
  {
   "cell_type": "code",
   "execution_count": 7,
   "metadata": {},
   "outputs": [
    {
     "name": "stdout",
     "output_type": "stream",
     "text": [
      "['fee', 'something', 'fee', 'nothing']\n"
     ]
    }
   ],
   "source": [
    "print(html.xpath(\".//div[contains(@class, 'three')]/text()\"))"
   ]
  },
  {
   "cell_type": "code",
   "execution_count": 10,
   "metadata": {},
   "outputs": [
    {
     "name": "stdout",
     "output_type": "stream",
     "text": [
      "['fee', 'learning']\n"
     ]
    }
   ],
   "source": [
    "#add four to id=second\n",
    "print(html.xpath(\".//div[contains(@class, 'four')]/text()\"))"
   ]
  },
  {
   "cell_type": "code",
   "execution_count": 13,
   "metadata": {},
   "outputs": [
    {
     "name": "stdout",
     "output_type": "stream",
     "text": [
      "['\\n        ', '\\n        ', '\\n        ', '\\n    ']\n"
     ]
    }
   ],
   "source": [
    "print(html.xpath(\".//div[contains(@id, 'o')]/text()\"))"
   ]
  },
  {
   "cell_type": "code",
   "execution_count": 14,
   "metadata": {},
   "outputs": [
    {
     "name": "stdout",
     "output_type": "stream",
     "text": [
      "['\\n        ', 'fee', '\\n        ', 'something', '\\n        ', 'learning', '\\n    ']\n"
     ]
    }
   ],
   "source": [
    "print(html.xpath(\".//div[contains(@id, 'o')]//text()\"))"
   ]
  },
  {
   "cell_type": "code",
   "execution_count": 18,
   "metadata": {},
   "outputs": [
    {
     "name": "stdout",
     "output_type": "stream",
     "text": [
      "['fee', 'fee']\n"
     ]
    }
   ],
   "source": [
    "#searching within txt\n",
    "print(html.xpath('.//div[contains(text(),\"ee\")]/text()'))"
   ]
  },
  {
   "cell_type": "code",
   "execution_count": null,
   "metadata": {},
   "outputs": [],
   "source": []
  }
 ],
 "metadata": {
  "kernelspec": {
   "display_name": "Python 3",
   "language": "python",
   "name": "python3"
  },
  "language_info": {
   "codemirror_mode": {
    "name": "ipython",
    "version": 3
   },
   "file_extension": ".py",
   "mimetype": "text/x-python",
   "name": "python",
   "nbconvert_exporter": "python",
   "pygments_lexer": "ipython3",
   "version": "3.6.5"
  }
 },
 "nbformat": 4,
 "nbformat_minor": 2
}
