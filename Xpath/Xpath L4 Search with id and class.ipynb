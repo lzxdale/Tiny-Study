{
 "cells": [
  {
   "cell_type": "code",
   "execution_count": 9,
   "metadata": {},
   "outputs": [],
   "source": [
    "from lxml import etree\n",
    "html_str = \"\"\"\n",
    "<body>\n",
    "<div class=\"container\">\n",
    "    <div id=\"first\">\n",
    "        <div class=\"one\">city</div>\n",
    "        <div class=\"two\">york</div>\n",
    "        <div class=\"two\">Ace</div>\n",
    "        <a>\n",
    "            <div class=\"spe\">VIP</div>\n",
    "        </a>\n",
    "    </div>\n",
    "    <div id=\"second\">\n",
    "        <div class=\"three\">fee</div>\n",
    "        <div class=\"three\">something</div>\n",
    "        <div class=\"four\">learning</div>\n",
    "    </div>\n",
    "    <div id=\"third\">\n",
    "        <div class=\"three\">fee</div>\n",
    "        <div class=\"three\">nothing</div>\n",
    "    </div>\n",
    "</div>\n",
    "</body>\n",
    "\"\"\"\n",
    "html = etree.HTML(html_str)"
   ]
  },
  {
   "cell_type": "code",
   "execution_count": 10,
   "metadata": {},
   "outputs": [
    {
     "name": "stdout",
     "output_type": "stream",
     "text": [
      "[<Element div at 0x106d9c9c8>]\n"
     ]
    }
   ],
   "source": [
    "print(html.xpath('.//div[@id=\"first\"]'))"
   ]
  },
  {
   "cell_type": "code",
   "execution_count": 11,
   "metadata": {},
   "outputs": [
    {
     "name": "stdout",
     "output_type": "stream",
     "text": [
      "[<Element div at 0x108de5f48>, <Element div at 0x108de5c88>, <Element div at 0x108df54c8>, <Element div at 0x108df5308>, <Element div at 0x108df5488>, <Element div at 0x108df5788>, <Element div at 0x108df57c8>, <Element div at 0x108df5808>, <Element div at 0x108df5848>, <Element div at 0x108df5748>, <Element div at 0x108df5888>, <Element div at 0x108df58c8>, <Element div at 0x108df5908>]\n"
     ]
    }
   ],
   "source": [
    "print(html.xpath('.//div'))"
   ]
  },
  {
   "cell_type": "code",
   "execution_count": 12,
   "metadata": {},
   "outputs": [
    {
     "name": "stdout",
     "output_type": "stream",
     "text": [
      "[<Element div at 0x108de5b48>, <Element div at 0x108de5c08>, <Element div at 0x108de5e88>, <Element div at 0x108de5e48>]\n"
     ]
    }
   ],
   "source": [
    "print(html.xpath('.//div[@class=\"three\"]'))"
   ]
  },
  {
   "cell_type": "code",
   "execution_count": 13,
   "metadata": {},
   "outputs": [
    {
     "name": "stdout",
     "output_type": "stream",
     "text": [
      "['fee', 'something', 'fee', 'nothing']\n"
     ]
    }
   ],
   "source": [
    "print(html.xpath('.//div[@class=\"three\"]/text()'))"
   ]
  },
  {
   "cell_type": "code",
   "execution_count": 14,
   "metadata": {},
   "outputs": [
    {
     "name": "stdout",
     "output_type": "stream",
     "text": [
      "[<Element div at 0x108de5c08>]\n"
     ]
    }
   ],
   "source": [
    "print(html.xpath('.//div[@id=\"first\"]/div[@class=\"one\"]'))"
   ]
  },
  {
   "cell_type": "code",
   "execution_count": 15,
   "metadata": {},
   "outputs": [
    {
     "name": "stdout",
     "output_type": "stream",
     "text": [
      "[<Element div at 0x108de5d88>, <Element div at 0x108de5fc8>]\n"
     ]
    }
   ],
   "source": [
    "print(html.xpath('.//div[@id=\"first\"]/div[@class=\"two\"]'))"
   ]
  }
 ],
 "metadata": {
  "kernelspec": {
   "display_name": "Python 3",
   "language": "python",
   "name": "python3"
  },
  "language_info": {
   "codemirror_mode": {
    "name": "ipython",
    "version": 3
   },
   "file_extension": ".py",
   "mimetype": "text/x-python",
   "name": "python",
   "nbconvert_exporter": "python",
   "pygments_lexer": "ipython3",
   "version": "3.6.5"
  }
 },
 "nbformat": 4,
 "nbformat_minor": 2
}
