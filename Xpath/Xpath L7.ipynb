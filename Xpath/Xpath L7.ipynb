{
 "cells": [
  {
   "cell_type": "markdown",
   "metadata": {},
   "source": [
    "## Notes\n",
    "\n",
    "- [ number ]\n",
    "\n",
    "- position(), to compare ex:position()>3\n",
    "\n",
    "- last(), last tag\n",
    "\n",
    "- position() return vale, same as last(), so these two can compare"
   ]
  },
  {
   "cell_type": "code",
   "execution_count": 4,
   "metadata": {},
   "outputs": [],
   "source": [
    "html_str = \"\"\"\n",
    "<body>\n",
    "<div id='content' class=\"ui container\">\n",
    "\n",
    "        <table id='contentbody' class=\"ui striped  table\">\n",
    "            <tr class='1'>\n",
    "                <th>Name</th>\n",
    "                <th>Sex</th>\n",
    "                <th>Email</th>\n",
    "                <th>Tel</th>\n",
    "            </tr>\n",
    "            <tr class = '2'>\n",
    "                <td><a href=\"zhangwei\">张伟</a></td>\n",
    "                <td>Male</td>\n",
    "                <td>zhangwei@haoren.com</td>\n",
    "                <td>12138-111</td>\n",
    "            </tr>\n",
    "            <tr class = '3'>\n",
    "                <td><a href=\"yifei\">一菲</a></td>\n",
    "                <td>Female</td>\n",
    "                <td>yifei@haoren.com</td>\n",
    "                <td>12138-112</td>\n",
    "            </tr>\n",
    "            <tr class = '4'>\n",
    "                <td><a href=\"xiaoxian\">小贤</a></td>\n",
    "                <td>Male</td>\n",
    "                <td>xiaoxian@haoren.com</td>\n",
    "                <td>12138-113</td>\n",
    "            </tr>\n",
    "            <tr class = '5'>\n",
    "                <td><a href=\"meijia\">美嘉</a></td>\n",
    "                <td>Female</td>\n",
    "                <td>meijia@haoren.com</td>\n",
    "                <td>12138-114</td>\n",
    "            </tr>\n",
    "            <tr class = '6'>\n",
    "                <td><a href=\"xiaobu\">小布</a></td>\n",
    "                <td>Male</td>\n",
    "                <td>xiaobu@hundan.com</td>\n",
    "                <td>12138-115</td>\n",
    "            </tr>\n",
    "            <a class='link'>link</a>\n",
    "\n",
    "        </table>\n",
    "</div>\n",
    "<div class=\"two div\">two div</div>\n",
    "</body>\n",
    "\"\"\"\n",
    "\n",
    "from lxml import etree\n",
    "\n",
    "html = etree.HTML(html_str)"
   ]
  },
  {
   "cell_type": "code",
   "execution_count": 6,
   "metadata": {},
   "outputs": [
    {
     "data": {
      "text/plain": [
       "['ui container', 'two div']"
      ]
     },
     "execution_count": 6,
     "metadata": {},
     "output_type": "execute_result"
    }
   ],
   "source": [
    "html.xpath(\".//div/@class\")"
   ]
  },
  {
   "cell_type": "code",
   "execution_count": 8,
   "metadata": {},
   "outputs": [
    {
     "data": {
      "text/plain": [
       "['ui container']"
      ]
     },
     "execution_count": 8,
     "metadata": {},
     "output_type": "execute_result"
    }
   ],
   "source": [
    "html.xpath(\".//div[@id = 'content']/@class\") #search with id"
   ]
  },
  {
   "cell_type": "code",
   "execution_count": 10,
   "metadata": {},
   "outputs": [
    {
     "name": "stdout",
     "output_type": "stream",
     "text": [
      "['two div']\n",
      "['ui container', 'two div']\n"
     ]
    }
   ],
   "source": [
    "print(html.xpath(\".//div[@class = 'two div']/@class\")) #search with class\n",
    "print(html.xpath(\".//div[contains(@class,'o')]/@class\")) #contains search in class"
   ]
  },
  {
   "cell_type": "code",
   "execution_count": 11,
   "metadata": {},
   "outputs": [
    {
     "name": "stdout",
     "output_type": "stream",
     "text": [
      "[<Element table at 0x10c215f88>]\n"
     ]
    }
   ],
   "source": [
    "print(html.xpath(\".//table\"))"
   ]
  },
  {
   "cell_type": "code",
   "execution_count": 15,
   "metadata": {},
   "outputs": [
    {
     "name": "stdout",
     "output_type": "stream",
     "text": [
      "[<Element tr at 0x10c2223c8>, <Element tr at 0x10c222208>, <Element tr at 0x10c222108>, <Element tr at 0x10c222448>, <Element tr at 0x10c222488>, <Element tr at 0x10c2224c8>]\n",
      "---\n",
      "[<Element tr at 0x10c222388>, <Element tr at 0x10c2223c8>, <Element tr at 0x10c222208>, <Element tr at 0x10c222108>, <Element tr at 0x10c222448>, <Element tr at 0x10c2224c8>]\n"
     ]
    }
   ],
   "source": [
    "# they are same as just below table\n",
    "print(html.xpath(\".//table/tr\")) #shallow level\n",
    "print('---')\n",
    "print(html.xpath(\".//table//tr\")) #deeper level"
   ]
  },
  {
   "cell_type": "code",
   "execution_count": 14,
   "metadata": {},
   "outputs": [
    {
     "name": "stdout",
     "output_type": "stream",
     "text": [
      "[]\n",
      "---\n",
      "[<Element td at 0x10c1af108>, <Element td at 0x10c222308>, <Element td at 0x10c222348>, <Element td at 0x10c222188>, <Element td at 0x10c2223c8>, <Element td at 0x10c222448>, <Element td at 0x10c222488>, <Element td at 0x10c222388>, <Element td at 0x10c2224c8>, <Element td at 0x10c222408>, <Element td at 0x10c222508>, <Element td at 0x10c222548>, <Element td at 0x10c222588>, <Element td at 0x10c2225c8>, <Element td at 0x10c222608>, <Element td at 0x10c222648>, <Element td at 0x10c222688>, <Element td at 0x10c2226c8>, <Element td at 0x10c222708>, <Element td at 0x10c222748>]\n"
     ]
    }
   ],
   "source": [
    "# diff\n",
    "print(html.xpath(\".//table/td\")) #shallow level\n",
    "print('---')\n",
    "print(html.xpath(\".//table//td\")) #deeper level"
   ]
  },
  {
   "cell_type": "code",
   "execution_count": 21,
   "metadata": {},
   "outputs": [
    {
     "name": "stdout",
     "output_type": "stream",
     "text": [
      "['Male', 'Male', 'Male']\n",
      "['2', '4', '6']\n",
      "['张伟', 'Male', 'zhangwei@haoren.com', '12138-111', '小贤', 'Male', 'xiaoxian@haoren.com', '12138-113', '小布', 'Male', 'xiaobu@hundan.com', '12138-115']\n"
     ]
    }
   ],
   "source": [
    "print(html.xpath(\".//table//td[text()='Male']/text()\"))\n",
    "print(html.xpath(\".//table//td[text()='Male']/../@class\"))\n",
    "print(html.xpath(\".//table//td[text()='Male']/../td//text()\"))"
   ]
  },
  {
   "cell_type": "code",
   "execution_count": 23,
   "metadata": {},
   "outputs": [
    {
     "name": "stdout",
     "output_type": "stream",
     "text": [
      "['张伟', 'Male', 'zhangwei@haoren.com', '12138-111', '一菲', 'Female', 'yifei@haoren.com', '12138-112', '小贤', 'Male', 'xiaoxian@haoren.com', '12138-113', '美嘉', 'Female', 'meijia@haoren.com', '12138-114']\n"
     ]
    }
   ],
   "source": [
    "print(html.xpath(\".//table//td[contains(text(),'haoren')]/../td//text()\"))"
   ]
  },
  {
   "cell_type": "code",
   "execution_count": 25,
   "metadata": {},
   "outputs": [
    {
     "name": "stdout",
     "output_type": "stream",
     "text": [
      "['小布', 'Male', 'xiaobu@hundan.com', '12138-115']\n"
     ]
    }
   ],
   "source": [
    "print(html.xpath(\".//table//td[contains(text(),'hundan')]/../td//text()\"))"
   ]
  },
  {
   "cell_type": "code",
   "execution_count": 33,
   "metadata": {},
   "outputs": [
    {
     "name": "stdout",
     "output_type": "stream",
     "text": [
      "['张伟', '一菲', '小贤', '美嘉']\n"
     ]
    }
   ],
   "source": [
    "print(html.xpath(\".//table//td[contains(text(),'haoren')]/../td/a/text()\"))"
   ]
  },
  {
   "cell_type": "code",
   "execution_count": 32,
   "metadata": {},
   "outputs": [
    {
     "name": "stdout",
     "output_type": "stream",
     "text": [
      "['小布']\n"
     ]
    }
   ],
   "source": [
    "print(html.xpath(\".//table//td[contains(text(),'hundan')]/../td/a/text()\"))"
   ]
  },
  {
   "cell_type": "code",
   "execution_count": 39,
   "metadata": {},
   "outputs": [
    {
     "name": "stdout",
     "output_type": "stream",
     "text": [
      "['Female']\n"
     ]
    }
   ],
   "source": [
    "print(html.xpath('.//table/tr[3]/td[2]/text()'))"
   ]
  },
  {
   "cell_type": "code",
   "execution_count": null,
   "metadata": {},
   "outputs": [],
   "source": [
    "## [3] to piont a pecific pos is not that good"
   ]
  },
  {
   "cell_type": "code",
   "execution_count": 45,
   "metadata": {},
   "outputs": [
    {
     "name": "stdout",
     "output_type": "stream",
     "text": [
      "['3']\n"
     ]
    }
   ],
   "source": [
    "#using position is better\n",
    "print(html.xpath(\".//table/tr[position()>1 and contains(@class, '3')]/@class\"))"
   ]
  },
  {
   "cell_type": "code",
   "execution_count": 46,
   "metadata": {},
   "outputs": [
    {
     "name": "stdout",
     "output_type": "stream",
     "text": [
      "['12138-111', '12138-112', '12138-113', '12138-114', '12138-115']\n"
     ]
    }
   ],
   "source": [
    "#taking end position\n",
    "print(html.xpath(\".//table/tr/td[last()]//text()\"))"
   ]
  },
  {
   "cell_type": "markdown",
   "metadata": {},
   "source": [
    "- ancestor\t选取当前节点的所有先辈（父、祖父等）。\n",
    "- ancestor-or-self\t选取当前节点的所有先辈（父、祖父等）以及当前节点本身。\n",
    "- attribute\t选取当前节点的所有属性。\n",
    "- child\t选取当前节点的所有子元素。\n",
    "- descendant\t选取当前节点的所有后代元素（子、孙等）。\n",
    "- descendant-or-self\t选取当前节点的所有后代元素（子、孙等）以及当前节点本身。\n",
    "- following\t选取文档中当前节点的结束标签之后的所有节点。\n",
    "- namespace\t选取当前节点的所有命名空间节点。\n",
    "- parent\t选取当前节点的父节点。\n",
    "- preceding\t选取文档中当前节点的开始标签之前的所有节点。\n",
    "- preceding-sibling\t选取当前节点之前的所有同级节点。\n",
    "- self\t选取当前节点。"
   ]
  },
  {
   "cell_type": "code",
   "execution_count": 47,
   "metadata": {},
   "outputs": [
    {
     "name": "stdout",
     "output_type": "stream",
     "text": [
      "[<Element table at 0x10c295108>]\n"
     ]
    }
   ],
   "source": [
    "print(html.xpath(\".//table[@id = 'contentbody']\"))"
   ]
  },
  {
   "cell_type": "code",
   "execution_count": 56,
   "metadata": {},
   "outputs": [
    {
     "name": "stdout",
     "output_type": "stream",
     "text": [
      "[<Element html at 0x10c1a1f88>, <Element body at 0x10c2a0a08>, <Element div at 0x10c1a1fc8>]\n",
      "[<Element tr at 0x10c222208>, <Element tr at 0x10c2a0a08>, <Element tr at 0x10c2a0d88>, <Element tr at 0x10c2a0d48>, <Element tr at 0x10c274d88>, <Element tr at 0x10c215588>]\n",
      "[<Element tr at 0x10c222208>, <Element tr at 0x10c2a0a08>, <Element tr at 0x10c2a0d88>, <Element tr at 0x10c2a0d48>, <Element tr at 0x10c274d88>, <Element tr at 0x10c215588>]\n"
     ]
    }
   ],
   "source": [
    "print(html.xpath(\".//table/ancestor::*\"))\n",
    "print(html.xpath(\".//table/*\"))\n",
    "print(html.xpath(\".//table/tr\"))"
   ]
  },
  {
   "cell_type": "code",
   "execution_count": 57,
   "metadata": {},
   "outputs": [
    {
     "name": "stdout",
     "output_type": "stream",
     "text": [
      "[<Element html at 0x10c1a1f88>, <Element body at 0x10c2a0088>, <Element div at 0x10c1a1fc8>, <Element table at 0x10c2a0f88>]\n",
      "\n",
      "[<Element body at 0x10c2a0088>]\n"
     ]
    }
   ],
   "source": [
    "print(html.xpath(\".//table/ancestor-or-self::*\"))\n",
    "print()\n",
    "print(html.xpath(\".//table/ancestor::body\"))"
   ]
  },
  {
   "cell_type": "code",
   "execution_count": 60,
   "metadata": {},
   "outputs": [
    {
     "name": "stdout",
     "output_type": "stream",
     "text": [
      "['contentbody', 'ui striped  table']\n"
     ]
    }
   ],
   "source": [
    "# all attribute\n",
    "print(html.xpath(\".//table/attribute::*\")) "
   ]
  },
  {
   "cell_type": "code",
   "execution_count": 63,
   "metadata": {},
   "outputs": [
    {
     "name": "stdout",
     "output_type": "stream",
     "text": [
      "[<Element tr at 0x10c222388>, <Element tr at 0x10c28cf48>, <Element tr at 0x10c28c708>, <Element tr at 0x10c28c088>, <Element tr at 0x10c28c488>, <Element tr at 0x10c28c808>]\n",
      "[<Element tr at 0x10c222388>, <Element tr at 0x10c28c388>, <Element tr at 0x10c28cf48>, <Element tr at 0x10c28c708>, <Element tr at 0x10c28c088>, <Element tr at 0x10c28c808>]\n",
      "---------------\n",
      "35\n",
      "35\n",
      "[<Element table at 0x10c28c388>, <Element tr at 0x10c28cf48>, <Element th at 0x10c28c708>, <Element th at 0x10c28c088>, <Element th at 0x10c28c788>, <Element th at 0x10c28c988>, <Element tr at 0x10c28c808>, <Element td at 0x10c28c888>, <Element a at 0x10c28c408>, <Element td at 0x10c28c848>, <Element td at 0x10c28c308>, <Element td at 0x10c28cb08>, <Element tr at 0x10c28c908>, <Element td at 0x10c28ca08>, <Element a at 0x10c28c6c8>, <Element td at 0x10c2a0388>, <Element td at 0x10c2a00c8>, <Element td at 0x10c2a0f48>, <Element tr at 0x10c2a0c08>, <Element td at 0x10c2a0a48>, <Element a at 0x10c2a0b48>, <Element td at 0x10c2a0488>, <Element td at 0x10c2a0588>, <Element td at 0x10c2a0e48>, <Element tr at 0x10c295dc8>, <Element td at 0x10c295688>, <Element a at 0x10c295f08>, <Element td at 0x10c295448>, <Element td at 0x10c295e08>, <Element td at 0x10c295908>, <Element tr at 0x10c295348>, <Element td at 0x10c295808>, <Element a at 0x10c295c48>, <Element td at 0x10c295e48>, <Element td at 0x10c295308>, <Element td at 0x10c295b48>]\n",
      "36\n"
     ]
    }
   ],
   "source": [
    "'''\n",
    "- child select all sub level\n",
    "- descendant \n",
    "- descendant-or-self like child but include current point\n",
    "'''\n",
    "print(html.xpath(\".//table/child::*\"))\n",
    "print(html.xpath(\".//table/*\"))\n",
    "print('---------------')\n",
    "print(len(html.xpath(\".//table/descendant::*\")))\n",
    "print(len(html.xpath(\".//table//*\")))\n",
    "print(html.xpath(\".//table/descendant-or-self::*\"))\n",
    "print(len(html.xpath(\".//table/descendant-or-self::*\")))"
   ]
  },
  {
   "cell_type": "code",
   "execution_count": null,
   "metadata": {},
   "outputs": [],
   "source": []
  }
 ],
 "metadata": {
  "kernelspec": {
   "display_name": "Python 3",
   "language": "python",
   "name": "python3"
  },
  "language_info": {
   "codemirror_mode": {
    "name": "ipython",
    "version": 3
   },
   "file_extension": ".py",
   "mimetype": "text/x-python",
   "name": "python",
   "nbconvert_exporter": "python",
   "pygments_lexer": "ipython3",
   "version": "3.6.5"
  }
 },
 "nbformat": 4,
 "nbformat_minor": 2
}
